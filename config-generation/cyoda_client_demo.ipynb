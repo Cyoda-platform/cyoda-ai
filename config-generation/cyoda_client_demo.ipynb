{
 "cells": [
  {
   "cell_type": "markdown",
   "id": "33f2c870",
   "metadata": {},
   "source": [
    "\n",
    " SER5T67# Cyoda Client Demo\n",
    "\n",
    "Welcome to the Cyoda Client Demo! This notebook demonstrates how to connect and interact with the Cyoda API. Follow the steps below to get started.\n",
    "\n",
    "## Prerequisites\n",
    "\n",
    "Before running the cells, ensure you have the following:\n",
    "- Cyoda API credentials (API key, secret, etc.)\n",
    "- Necessary Python packages installed\n",
    "\n",
    "## Steps\n",
    "\n",
    "1. **Setup**: Import required libraries and set up the environment.\n",
    "2. **Authentication**: Authenticate with the Cyoda API.\n",
    "3. **Basic Operations**: Perform basic operations using the API.\n",
    "4. **Advanced Features**: Explore advanced features and functionalities.\n",
    "\n",
    "Let's get started!\n"
   ]
  },
  {
   "cell_type": "code",
   "execution_count": null,
   "metadata": {},
   "outputs": [],
   "source": [
    "%%script echo skipping\n",
    "pip install -r ../requirements.txt"
   ]
  },
  {
   "cell_type": "code",
   "execution_count": null,
   "id": "9616f8b5",
   "metadata": {},
   "outputs": [],
   "source": [
    "# Setup environment variables\n",
    "import os\n",
    "\n",
    "API_KEY = os.environ[\"CYODA_API_KEY\"]\n",
    "API_SECRET = os.environ[\"CYODA_API_SECRET\"]\n",
    "API_URL = os.environ[\"CYODA_API_URL\"]\n",
    "GRPC_ADDRESS = os.environ[\"GRPC_ADDRESS\"]\n",
    "TOKEN = \"\"\n",
    "print(API_KEY)\n",
    "print(API_URL)\n",
    "print(GRPC_ADDRESS)"
   ]
  },
  {
   "cell_type": "code",
   "execution_count": null,
   "metadata": {},
   "outputs": [],
   "source": [
    "ENTITY_CLASS_NAME = \"com.cyoda.tdb.model.treenode.TreeNodeEntity\"\n",
    "#increment the version before run\n",
    "VERSION=612"
   ]
  },
  {
   "cell_type": "code",
   "execution_count": null,
   "id": "64f64a66",
   "metadata": {},
   "outputs": [],
   "source": [
    "# Authenticate with the Cyoda API\n",
    "import requests\n",
    "import json\n",
    "\n",
    "api_url = API_URL + \"/api/auth/login\"\n",
    "headers = {\"Content-Type\": \"application/json\", \"X-Requested-With\": \"XMLHttpRequest\"}\n",
    "auth_data = {\"username\": API_KEY, \"password\": API_SECRET}\n",
    "print(api_url)\n",
    "response = requests.post(api_url, headers=headers, data=json.dumps(auth_data))\n",
    "print(response.json())\n",
    "if response.status_code == 200:\n",
    "    print(\"Authentication successful!\")\n",
    "    TOKEN = response.json().get(\"token\")\n",
    "else:\n",
    "    print(\"Authentication failed. Please check your API credentials.\")"
   ]
  },
  {
   "cell_type": "code",
   "execution_count": null,
   "metadata": {},
   "outputs": [],
   "source": [
    "import requests\n",
    "import logging\n",
    "from typing import List\n",
    "# Setup logging\n",
    "logger = logging.getLogger(__name__)\n",
    "logging.basicConfig(level=logging.INFO)\n"
   ]
  },
  {
   "cell_type": "code",
   "execution_count": null,
   "metadata": {},
   "outputs": [],
   "source": [
    "def send_get_request(path):\n",
    "    url = f\"{API_URL}/{path}\"\n",
    "\n",
    "    headers = {\"Content-Type\": \"application/json\", \"Authorization\": f\"Bearer {TOKEN}\"}\n",
    "    response = requests.get(url, headers=headers)\n",
    "    return response"
   ]
  },
  {
   "cell_type": "code",
   "execution_count": null,
   "metadata": {},
   "outputs": [],
   "source": [
    "def send_post_request(path, data):\n",
    "    url = f\"{API_URL}/{path}\"\n",
    "\n",
    "    headers = {\"Content-Type\": \"application/json\", \"Authorization\": f\"Bearer {TOKEN}\"}\n",
    "    response = requests.post(url, headers=headers, data=data)\n",
    "    return response"
   ]
  },
  {
   "cell_type": "code",
   "execution_count": null,
   "metadata": {},
   "outputs": [],
   "source": [
    "def send_put_request(path, data, timeout):\n",
    "    url = f\"{API_URL}/{path}\"\n",
    "\n",
    "    headers = {\"Content-Type\": \"application/json\", \"Authorization\": f\"Bearer {TOKEN}\"}\n",
    "    response = requests.put(url, headers=headers, data=data, timeout=timeout)\n",
    "    return response\n"
   ]
  },
  {
   "cell_type": "code",
   "execution_count": null,
   "metadata": {},
   "outputs": [],
   "source": [
    "version = VERSION"
   ]
  },
  {
   "cell_type": "code",
   "execution_count": null,
   "metadata": {},
   "outputs": [],
   "source": [
    "def save_entity_schema(model, version, data):\n",
    "    path = f\"api/treeNode/model/import/JSON/SAMPLE_DATA/{model}/{version}\"\n",
    "    response = send_post_request(path=path, data=data)\n",
    "    logger.info(response)\n",
    "    return response"
   ]
  },
  {
   "cell_type": "code",
   "execution_count": null,
   "metadata": {},
   "outputs": [],
   "source": [
    "def test_save_employee_schema():\n",
    "    model = \"employee\"\n",
    "    employees = '[{\"id\": \"9c5dcfd1-aec9-456a-820a-566a82269596\", \"fullName\":\"Russ Blick\",\"department\":\"Legal\"}]'\n",
    "    employees_response = save_entity_schema(\n",
    "        model=model, version=version, data=employees\n",
    "    )\n",
    "    logger.info(employees_response)\n",
    "    assert (\n",
    "        employees_response.status_code == 200\n",
    "    ), f\"Expected 200, got {employees_response.status_code}\"\n",
    "\n",
    "\n",
    "test_save_employee_schema()"
   ]
  },
  {
   "cell_type": "markdown",
   "metadata": {},
   "source": [
    "curl -X POST \\\n",
    "  'https://API_URL/api/treeNode/model/import/JSON/SAMPLE_DATA/employee/213' \\\n",
    "  -H 'Content-Type: application/json' \\\n",
    "  -H 'Authorization: Bearer TOKEN' \\\n",
    "  -d '[{\"id\": \"9c5dcfd1-aec9-456a-820a-566a82269596\", \"fullName\": \"Russ Blick\", \"department\": \"Legal\"}]'"
   ]
  },
  {
   "cell_type": "code",
   "execution_count": null,
   "metadata": {},
   "outputs": [],
   "source": [
    "def test_save_report_schema():\n",
    "    model = \"expense_report\"\n",
    "    reports = '[{\"employeeId\":\"9c5dcfd1-aec9-456a-820a-566a82269596\",\"city\":\"Alofi\",\"departureDate\":\"2024-06-24T12:28:51.245+00:00\",\"totalAmount\":\"515.38\"},{\"employeeId\":\"a50a7fbe-1e3b-11b2-9575-f2bfe09fbe21\",\"city\":\"Muscat\",\"departureDate\":\"2024-06-24T18:32:30.094+00:00\",\"totalAmount\":\"318.59\"}]'\n",
    "    reports_response = save_entity_schema(model=model, version=version, data=reports)\n",
    "    logger.info(reports_response)\n",
    "    assert (\n",
    "        reports_response.status_code == 200\n",
    "    ), f\"Expected 200, got {reports_response.status_code}\"\n",
    "\n",
    "\n",
    "test_save_report_schema()"
   ]
  },
  {
   "cell_type": "code",
   "execution_count": null,
   "metadata": {},
   "outputs": [],
   "source": [
    "def test_save_payment_schema():\n",
    "    model = \"payment\"\n",
    "    payments = (\n",
    "        '[{\"btReportId\":\"a50a7fbe-1e3b-11b2-9575-f2bfe09fbe21\",\"amount\":\"199.17\"}]'\n",
    "    )\n",
    "    payment_response = save_entity_schema(model=model, version=version, data=payments)\n",
    "    logger.info(payment_response.json())\n",
    "    assert (\n",
    "        payment_response.status_code == 200\n",
    "    ), f\"Expected 200, got {payment_response.status_code}\"\n",
    "\n",
    "\n",
    "test_save_payment_schema()"
   ]
  },
  {
   "cell_type": "code",
   "execution_count": null,
   "metadata": {},
   "outputs": [],
   "source": [
    "def lock_entity_schema(model, version, data):\n",
    "    path = f\"api/treeNode/model/{model}/{version}/lock\"\n",
    "    response = send_put_request(path=path, data=data, timeout=None)\n",
    "    logger.info(response)\n",
    "    return response"
   ]
  },
  {
   "cell_type": "code",
   "execution_count": null,
   "metadata": {},
   "outputs": [],
   "source": [
    "def test_lock_employee_schema():\n",
    "    model = \"employee\"\n",
    "    employees_response = lock_entity_schema(model=model, version=version, data=None)\n",
    "    logger.info(employees_response)\n",
    "    assert (\n",
    "        employees_response.status_code == 200\n",
    "    ), f\"Expected 200, got {employees_response.status_code}\"\n",
    "\n",
    "\n",
    "test_lock_employee_schema()"
   ]
  },
  {
   "cell_type": "code",
   "execution_count": null,
   "metadata": {},
   "outputs": [],
   "source": [
    "def test_lock_report_schema():\n",
    "    model = \"expense_report\"\n",
    "    report_response = lock_entity_schema(model=model, version=version, data=None)\n",
    "    logger.info(report_response)\n",
    "    assert (\n",
    "        report_response.status_code == 200\n",
    "    ), f\"Expected 200, got {report_response.status_code}\"\n",
    "\n",
    "\n",
    "test_lock_report_schema()"
   ]
  },
  {
   "cell_type": "code",
   "execution_count": null,
   "metadata": {},
   "outputs": [],
   "source": [
    "def test_lock_payment_schema():\n",
    "    model = \"payment\"\n",
    "    payment_response = lock_entity_schema(model=model, version=version, data=None)\n",
    "    logger.info(payment_response)\n",
    "    assert (\n",
    "        payment_response.status_code == 200\n",
    "    ), f\"Expected 200, got {payment_response.status_code}\"\n",
    "\n",
    "\n",
    "test_lock_payment_schema()"
   ]
  },
  {
   "cell_type": "code",
   "execution_count": null,
   "metadata": {},
   "outputs": [],
   "source": [
    "emplyee_ids=[]\n",
    "report_ids=[]\n",
    "payment_ids=[]"
   ]
  },
  {
   "cell_type": "code",
   "execution_count": null,
   "metadata": {},
   "outputs": [],
   "source": [
    "def save_new_entity(model, version, data, entity_ids: List):\n",
    "    path = f\"api/entity/new/JSON/TREE/{model}/{version}\"\n",
    "    response = send_post_request(path=path, data=data)\n",
    "    # Save entities ids for later use in the tests\n",
    "    if response.status_code == 200:\n",
    "        response_json = response.json()\n",
    "        for item in response_json:\n",
    "            item_ids = item['entityIds']\n",
    "            entity_ids.extend(item_ids)\n",
    "        logger.info(entity_ids)\n",
    "    return response"
   ]
  },
  {
   "cell_type": "code",
   "execution_count": null,
   "metadata": {},
   "outputs": [],
   "source": [
    "def test_save_new_employee():\n",
    "    model = \"employee\"\n",
    "    employees = '[{\"id\": \"9c5dcfd1-aec9-456a-820a-566a82269596\", \"fullName\":\"Russ Blick\",\"department\":\"Legal\"}]'\n",
    "    employees_response = save_new_entity(\n",
    "        model=model, version=version, data=employees, entity_ids=emplyee_ids\n",
    "    )\n",
    "    logger.info(employees_response.json())\n",
    "    assert (\n",
    "        employees_response.status_code == 200\n",
    "    ), f\"Expected 200, got {employees_response.status_code}\"\n",
    "\n",
    "test_save_new_employee()"
   ]
  },
  {
   "cell_type": "code",
   "execution_count": null,
   "metadata": {},
   "outputs": [],
   "source": [
    "def test_save_new_report():\n",
    "    model = \"expense_report\"\n",
    "    reports = '[{\"employeeId\":\"9c5dcfd1-aec9-456a-820a-566a82269596\",\"city\":\"Alofi\",\"departureDate\":\"2024-06-24T12:28:51.245+00:00\",\"totalAmount\":\"515.38\"},{\"employeeId\":\"a50a7fbe-1e3b-11b2-9575-f2bfe09fbe21\",\"city\":\"Muscat\",\"departureDate\":\"2024-06-24T18:32:30.094+00:00\",\"totalAmount\":\"318.59\"}]'\n",
    "    reports_response = save_new_entity(\n",
    "        model=model, version=version, data=reports, entity_ids=report_ids\n",
    "    )\n",
    "    logger.info(reports_response.json())\n",
    "    assert (\n",
    "        reports_response.status_code == 200\n",
    "    ), f\"Expected 200, got {reports_response.status_code}\"\n",
    "\n",
    "\n",
    "test_save_new_report()"
   ]
  },
  {
   "cell_type": "code",
   "execution_count": null,
   "metadata": {},
   "outputs": [],
   "source": [
    "def test_save_payment_schema():\n",
    "    model = \"payment\"\n",
    "    payments = (\n",
    "        '[{\"btReportId\":\"a50a7fbe-1e3b-11b2-9575-f2bfe09fbe21\",\"amount\":\"199.17\"}]'\n",
    "    )\n",
    "    payment_response = save_new_entity(model=model, version=version, data=payments, entity_ids=payment_ids)\n",
    "    logger.info(payment_response.json())\n",
    "    assert (\n",
    "        payment_response.status_code == 200\n",
    "    ), f\"Expected 200, got {payment_response.status_code}\"\n",
    "\n",
    "\n",
    "test_save_payment_schema()"
   ]
  },
  {
   "cell_type": "code",
   "execution_count": null,
   "metadata": {},
   "outputs": [],
   "source": [
    "logger.info(emplyee_ids)\n",
    "logger.info(report_ids)\n",
    "logger.info(payment_ids)"
   ]
  },
  {
   "cell_type": "code",
   "execution_count": null,
   "metadata": {},
   "outputs": [],
   "source": [
    "def get_entity_current_state(entityId):\n",
    "    \n",
    "    path = f\"api/platform-api/entity-info/fetch/lazy?entityClass={ENTITY_CLASS_NAME}&entityId={entityId}&columnPath=state\"\n",
    "    response = send_get_request(path=path)\n",
    "    logger.info(response)\n",
    "    return response"
   ]
  },
  {
   "cell_type": "markdown",
   "metadata": {},
   "source": [
    "curl -X GET \\\n",
    "  -H \"Content-Type: application/json\" \\\n",
    "  -H \"Authorization: Bearer token\" \\\n",
    "  \"https://API_URL/api/platform-api/entity-info/fetch/lazy?entityClass=com.cyoda.tdb.model.treenode.TreeNodeEntity&entityId=d97c39e8-1dde-11b2-95c3-4a6f479a0680&columnPath=state\""
   ]
  },
  {
   "cell_type": "code",
   "execution_count": null,
   "metadata": {},
   "outputs": [],
   "source": [
    "def launch_transition(entityId, transitionName):\n",
    "    \n",
    "    path = f\"api/platform-api/entity/transition?entityId={entityId}&entityClass={ENTITY_CLASS_NAME}&transitionName={transitionName}\"\n",
    "    timeout = (30, 30)\n",
    "    response = send_put_request(path=path, data=None, timeout = timeout)\n",
    "    logger.info(response)\n",
    "    return response"
   ]
  },
  {
   "cell_type": "markdown",
   "metadata": {},
   "source": [
    "..."
   ]
  },
  {
   "cell_type": "code",
   "execution_count": null,
   "metadata": {},
   "outputs": [],
   "source": [
    "# Step 1: Install gRPC and tools\n",
    "!pip install grpcio grpcio-tools\n",
    "\n",
    "# Step 2: Compile proto files\n",
    "!python -m grpc_tools.protoc -I. --python_out=. --pyi_out=. --grpc_python_out=. cyoda-cloud-api.proto\n",
    "\n",
    "!python -m grpc_tools.protoc -I. --python_out=. --pyi_out=. --grpc_python_out=. cloudevents.proto"
   ]
  },
  {
   "cell_type": "code",
   "execution_count": null,
   "metadata": {},
   "outputs": [],
   "source": [
    "from enum import Enum\n",
    "\n",
    "\n",
    "class CloudEventType(str, Enum):\n",
    "    BASE_EVENT = \"BaseEvent\"\n",
    "    CALCULATION_MEMBER_JOIN_EVENT = \"CalculationMemberJoinEvent\"\n",
    "    CALCULATION_MEMBER_GREET_EVENT = \"CalculationMemberGreetEvent\"\n",
    "    ENTITY_PROCESSOR_CALCULATION_REQUEST = \"EntityProcessorCalculationRequest\"\n",
    "    ENTITY_PROCESSOR_CALCULATION_RESPONSE = \"EntityProcessorCalculationResponse\""
   ]
  },
  {
   "cell_type": "code",
   "execution_count": null,
   "metadata": {},
   "outputs": [],
   "source": [
    "from typing import Any, Optional\n",
    "from pydantic import BaseModel\n",
    "\n",
    "\n",
    "class DataPayload(BaseModel):\n",
    "    type: str\n",
    "    data: Optional[Any] = None"
   ]
  },
  {
   "cell_type": "code",
   "execution_count": null,
   "metadata": {},
   "outputs": [],
   "source": [
    "from typing import Optional\n",
    "from pydantic import BaseModel\n",
    "\n",
    "\n",
    "class ErrorCode(BaseModel):\n",
    "    code: str\n",
    "    message: str\n",
    "\n",
    "\n",
    "class BaseEvent(BaseModel):\n",
    "    owner: str\n",
    "    success: Optional[bool] = True\n",
    "    error: Optional[ErrorCode] = None"
   ]
  },
  {
   "cell_type": "code",
   "execution_count": null,
   "metadata": {},
   "outputs": [],
   "source": [
    "class CalculationMemberGreetEvent(BaseEvent):\n",
    "    memberId: str"
   ]
  },
  {
   "cell_type": "code",
   "execution_count": null,
   "metadata": {},
   "outputs": [],
   "source": [
    "from typing import List, Optional\n",
    "\n",
    "class CalculationMemberJoinEvent(BaseEvent):\n",
    "    tags: Optional[List[str]] = None"
   ]
  },
  {
   "cell_type": "code",
   "execution_count": null,
   "metadata": {},
   "outputs": [],
   "source": [
    "class EntityProcessorCalculationRequest(BaseEvent):\n",
    "    requestId: str\n",
    "    entityId: str\n",
    "    processorId: str\n",
    "    processorName: str\n",
    "    payload: DataPayload"
   ]
  },
  {
   "cell_type": "code",
   "execution_count": null,
   "metadata": {},
   "outputs": [],
   "source": [
    "class EntityProcessorCalculationResponse(BaseEvent):\n",
    "    requestId: str\n",
    "    entityId: str\n",
    "    payload: DataPayload"
   ]
  },
  {
   "cell_type": "code",
   "execution_count": null,
   "metadata": {},
   "outputs": [],
   "source": [
    "# Step 3: Import the generated classes\n",
    "import grpc\n",
    "import cyoda_cloud_api_pb2_grpc\n",
    "import cloudevents_pb2\n",
    "\n",
    "channel = grpc.secure_channel(GRPC_ADDRESS, grpc.ssl_channel_credentials())\n",
    "stub = cyoda_cloud_api_pb2_grpc.CloudEventsServiceStub(channel)\n",
    "# Initialize the join event\n",
    "join_event = CalculationMemberJoinEvent(owner=\"PLAY\", tags=[\"simple\", \"sample\"])\n",
    "\n",
    "\n",
    "# Create a new CloudEvent\n",
    "cloudEvent = cloudevents_pb2.CloudEvent()\n",
    "cloudEvent.id = \"9ba80b3e-e856-4bdb-984b-7523a458101b\"\n",
    "cloudEvent.source = \"SimpleSample\"\n",
    "cloudEvent.spec_version = \"1.0\"\n",
    "cloudEvent.type = \"CalculationMemberJoinEvent\"\n",
    "print(join_event.model_dump_json())\n",
    "cloudEvent.text_data = join_event.model_dump_json()  # Assign the serialized event\n",
    "\n",
    "# Start streaming\n",
    "responses = stub.startStreaming(iter([cloudEvent]))\n",
    "for response in responses:\n",
    "    print(\"Received event: \", response)"
   ]
  }
 ],
 "metadata": {
  "kernelspec": {
   "display_name": "Python 3 (ipykernel)",
   "language": "python",
   "name": "python3"
  },
  "language_info": {
   "codemirror_mode": {
    "name": "ipython",
    "version": 3
   },
   "file_extension": ".py",
   "mimetype": "text/x-python",
   "name": "python",
   "nbconvert_exporter": "python",
   "pygments_lexer": "ipython3",
   "version": "3.10.13"
  }
 },
 "nbformat": 4,
 "nbformat_minor": 4
}
