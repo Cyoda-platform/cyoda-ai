{
 "cells": [
  {
   "cell_type": "markdown",
   "metadata": {},
   "source": [
    "# AI Cyoda configurations Q&A with RAG Langchain\n",
    "\n",
    "Welcome to this Jupyter notebook! This notebook serves as your guide to developing an AI-powered Question & Answer system using the Langchain library. This system utilizes the Retrieval-Augmented Generation (RAG) model, a powerful tool that leverages OpenAI's GPT-3 model to provide intelligent and context-aware responses.\n",
    "\n",
    "The primary purpose of this notebook is to generate Cyoda mapping configurations and resources. It does so by interacting with the data set available in the official Cyoda repository. By following along, you'll learn how to harness the power of Langchain and RAG to create a sophisticated AI tool for Cyoda.\n",
    "\n",
    "## What will we cover?\n",
    "\n",
    "In this notebook, we will go through the following steps:\n",
    "\n",
    "1. **Setting up the environment**: We will install necessary libraries and load environment variables.\n",
    "\n",
    "2. **Initializing the AI model**: We will initialize the ChatOpenAI model with the appropriate parameters.\n",
    "\n",
    "3. **Loading instructions and entities**: We will load instructions and entities from the official repository using the GitLoader.\n",
    "\n",
    "4. **Splitting documents and creating a vectorstore**: We will split the loaded documents into chunks and create a vectorstore using the Chroma library.\n",
    "\n",
    "5. **Defining prompts for contextualizing and answering questions**: We will define prompts that the AI model will use to contextualize and answer questions.\n",
    "\n",
    "6. **Creating a retrieval chain**: We will create a retrieval chain that combines the history-aware retriever and the question-answer chain.\n",
    "\n",
    "7. **Running the chatbot**: Finally, we will run the chatbot and see it in action!\n",
    "\n",
    "## Let's get started!\n",
    "\n",
    "Please follow along with the code cells and comments to understand each step of the process. If you have any questions or run into any issues, feel free to ask for help. Happy coding!"
   ]
  },
  {
   "cell_type": "markdown",
   "metadata": {},
   "source": [
    "Install requirements"
   ]
  },
  {
   "cell_type": "code",
   "execution_count": 1,
   "metadata": {},
   "outputs": [
    {
     "name": "stdout",
     "output_type": "stream",
     "text": [
      "Requirement already satisfied: langchain==0.1.16 in /home/codespace/.local/lib/python3.10/site-packages (from -r ../requirements.txt (line 1)) (0.1.16)\n",
      "Requirement already satisfied: langchain-community==0.0.32 in /home/codespace/.local/lib/python3.10/site-packages (from -r ../requirements.txt (line 2)) (0.0.32)\n",
      "Requirement already satisfied: langchain-openai==0.1.3 in /home/codespace/.local/lib/python3.10/site-packages (from -r ../requirements.txt (line 3)) (0.1.3)\n",
      "Requirement already satisfied: openai==1.17.0 in /home/codespace/.local/lib/python3.10/site-packages (from -r ../requirements.txt (line 4)) (1.17.0)\n",
      "Requirement already satisfied: langchain-text-splitters in /home/codespace/.local/lib/python3.10/site-packages (from -r ../requirements.txt (line 5)) (0.0.1)\n",
      "Requirement already satisfied: chromadb==0.4.24 in /home/codespace/.local/lib/python3.10/site-packages (from -r ../requirements.txt (line 6)) (0.4.24)\n",
      "Requirement already satisfied: tiktoken==0.6.0 in /home/codespace/.local/lib/python3.10/site-packages (from -r ../requirements.txt (line 7)) (0.6.0)\n",
      "Requirement already satisfied: sentence-transformers==2.6.1 in /home/codespace/.local/lib/python3.10/site-packages (from -r ../requirements.txt (line 8)) (2.6.1)\n",
      "Requirement already satisfied: unstructured==0.13.2 in /home/codespace/.local/lib/python3.10/site-packages (from -r ../requirements.txt (line 9)) (0.13.2)\n",
      "Requirement already satisfied: GitPython==3.1.43 in /home/codespace/.local/lib/python3.10/site-packages (from -r ../requirements.txt (line 10)) (3.1.43)\n",
      "Requirement already satisfied: PyYAML>=5.3 in /home/codespace/.local/lib/python3.10/site-packages (from langchain==0.1.16->-r ../requirements.txt (line 1)) (6.0.1)\n",
      "Requirement already satisfied: SQLAlchemy<3,>=1.4 in /home/codespace/.local/lib/python3.10/site-packages (from langchain==0.1.16->-r ../requirements.txt (line 1)) (2.0.29)\n",
      "Requirement already satisfied: aiohttp<4.0.0,>=3.8.3 in /home/codespace/.local/lib/python3.10/site-packages (from langchain==0.1.16->-r ../requirements.txt (line 1)) (3.9.4)\n",
      "Requirement already satisfied: async-timeout<5.0.0,>=4.0.0 in /home/codespace/.local/lib/python3.10/site-packages (from langchain==0.1.16->-r ../requirements.txt (line 1)) (4.0.3)\n",
      "Requirement already satisfied: dataclasses-json<0.7,>=0.5.7 in /home/codespace/.local/lib/python3.10/site-packages (from langchain==0.1.16->-r ../requirements.txt (line 1)) (0.6.4)\n",
      "Requirement already satisfied: jsonpatch<2.0,>=1.33 in /home/codespace/.local/lib/python3.10/site-packages (from langchain==0.1.16->-r ../requirements.txt (line 1)) (1.33)\n",
      "Requirement already satisfied: langchain-core<0.2.0,>=0.1.42 in /home/codespace/.local/lib/python3.10/site-packages (from langchain==0.1.16->-r ../requirements.txt (line 1)) (0.1.42)\n",
      "Requirement already satisfied: langsmith<0.2.0,>=0.1.17 in /home/codespace/.local/lib/python3.10/site-packages (from langchain==0.1.16->-r ../requirements.txt (line 1)) (0.1.47)\n",
      "Requirement already satisfied: numpy<2,>=1 in /home/codespace/.local/lib/python3.10/site-packages (from langchain==0.1.16->-r ../requirements.txt (line 1)) (1.26.4)\n",
      "Requirement already satisfied: pydantic<3,>=1 in /home/codespace/.local/lib/python3.10/site-packages (from langchain==0.1.16->-r ../requirements.txt (line 1)) (2.7.0)\n",
      "Requirement already satisfied: requests<3,>=2 in /home/codespace/.local/lib/python3.10/site-packages (from langchain==0.1.16->-r ../requirements.txt (line 1)) (2.31.0)\n",
      "Requirement already satisfied: tenacity<9.0.0,>=8.1.0 in /home/codespace/.local/lib/python3.10/site-packages (from langchain==0.1.16->-r ../requirements.txt (line 1)) (8.2.3)\n",
      "Requirement already satisfied: anyio<5,>=3.5.0 in /home/codespace/.local/lib/python3.10/site-packages (from openai==1.17.0->-r ../requirements.txt (line 4)) (4.3.0)\n",
      "Requirement already satisfied: distro<2,>=1.7.0 in /home/codespace/.local/lib/python3.10/site-packages (from openai==1.17.0->-r ../requirements.txt (line 4)) (1.9.0)\n",
      "Requirement already satisfied: httpx<1,>=0.23.0 in /home/codespace/.local/lib/python3.10/site-packages (from openai==1.17.0->-r ../requirements.txt (line 4)) (0.27.0)\n",
      "Requirement already satisfied: sniffio in /home/codespace/.local/lib/python3.10/site-packages (from openai==1.17.0->-r ../requirements.txt (line 4)) (1.3.1)\n",
      "Requirement already satisfied: tqdm>4 in /home/codespace/.local/lib/python3.10/site-packages (from openai==1.17.0->-r ../requirements.txt (line 4)) (4.66.2)\n",
      "Requirement already satisfied: typing-extensions<5,>=4.7 in /home/codespace/.local/lib/python3.10/site-packages (from openai==1.17.0->-r ../requirements.txt (line 4)) (4.10.0)\n",
      "Requirement already satisfied: build>=1.0.3 in /home/codespace/.local/lib/python3.10/site-packages (from chromadb==0.4.24->-r ../requirements.txt (line 6)) (1.2.1)\n",
      "Requirement already satisfied: chroma-hnswlib==0.7.3 in /home/codespace/.local/lib/python3.10/site-packages (from chromadb==0.4.24->-r ../requirements.txt (line 6)) (0.7.3)\n",
      "Requirement already satisfied: fastapi>=0.95.2 in /home/codespace/.local/lib/python3.10/site-packages (from chromadb==0.4.24->-r ../requirements.txt (line 6)) (0.110.1)\n",
      "Requirement already satisfied: uvicorn>=0.18.3 in /home/codespace/.local/lib/python3.10/site-packages (from uvicorn[standard]>=0.18.3->chromadb==0.4.24->-r ../requirements.txt (line 6)) (0.29.0)\n",
      "Requirement already satisfied: posthog>=2.4.0 in /home/codespace/.local/lib/python3.10/site-packages (from chromadb==0.4.24->-r ../requirements.txt (line 6)) (3.5.0)\n",
      "Requirement already satisfied: pulsar-client>=3.1.0 in /home/codespace/.local/lib/python3.10/site-packages (from chromadb==0.4.24->-r ../requirements.txt (line 6)) (3.5.0)\n",
      "Requirement already satisfied: onnxruntime>=1.14.1 in /home/codespace/.local/lib/python3.10/site-packages (from chromadb==0.4.24->-r ../requirements.txt (line 6)) (1.17.3)\n",
      "Requirement already satisfied: opentelemetry-api>=1.2.0 in /home/codespace/.local/lib/python3.10/site-packages (from chromadb==0.4.24->-r ../requirements.txt (line 6)) (1.24.0)\n",
      "Requirement already satisfied: opentelemetry-exporter-otlp-proto-grpc>=1.2.0 in /home/codespace/.local/lib/python3.10/site-packages (from chromadb==0.4.24->-r ../requirements.txt (line 6)) (1.24.0)\n",
      "Requirement already satisfied: opentelemetry-instrumentation-fastapi>=0.41b0 in /home/codespace/.local/lib/python3.10/site-packages (from chromadb==0.4.24->-r ../requirements.txt (line 6)) (0.45b0)\n",
      "Requirement already satisfied: opentelemetry-sdk>=1.2.0 in /home/codespace/.local/lib/python3.10/site-packages (from chromadb==0.4.24->-r ../requirements.txt (line 6)) (1.24.0)\n",
      "Requirement already satisfied: tokenizers>=0.13.2 in /home/codespace/.local/lib/python3.10/site-packages (from chromadb==0.4.24->-r ../requirements.txt (line 6)) (0.15.2)\n",
      "Requirement already satisfied: pypika>=0.48.9 in /home/codespace/.local/lib/python3.10/site-packages (from chromadb==0.4.24->-r ../requirements.txt (line 6)) (0.48.9)\n",
      "Requirement already satisfied: overrides>=7.3.1 in /home/codespace/.local/lib/python3.10/site-packages (from chromadb==0.4.24->-r ../requirements.txt (line 6)) (7.7.0)\n",
      "Requirement already satisfied: importlib-resources in /home/codespace/.local/lib/python3.10/site-packages (from chromadb==0.4.24->-r ../requirements.txt (line 6)) (6.4.0)\n",
      "Requirement already satisfied: grpcio>=1.58.0 in /home/codespace/.local/lib/python3.10/site-packages (from chromadb==0.4.24->-r ../requirements.txt (line 6)) (1.62.1)\n",
      "Requirement already satisfied: bcrypt>=4.0.1 in /home/codespace/.local/lib/python3.10/site-packages (from chromadb==0.4.24->-r ../requirements.txt (line 6)) (4.1.2)\n",
      "Requirement already satisfied: typer>=0.9.0 in /home/codespace/.local/lib/python3.10/site-packages (from chromadb==0.4.24->-r ../requirements.txt (line 6)) (0.12.3)\n",
      "Requirement already satisfied: kubernetes>=28.1.0 in /home/codespace/.local/lib/python3.10/site-packages (from chromadb==0.4.24->-r ../requirements.txt (line 6)) (29.0.0)\n",
      "Requirement already satisfied: mmh3>=4.0.1 in /home/codespace/.local/lib/python3.10/site-packages (from chromadb==0.4.24->-r ../requirements.txt (line 6)) (4.1.0)\n",
      "Requirement already satisfied: orjson>=3.9.12 in /home/codespace/.local/lib/python3.10/site-packages (from chromadb==0.4.24->-r ../requirements.txt (line 6)) (3.10.0)\n",
      "Requirement already satisfied: regex>=2022.1.18 in /home/codespace/.local/lib/python3.10/site-packages (from tiktoken==0.6.0->-r ../requirements.txt (line 7)) (2023.12.25)\n",
      "Requirement already satisfied: transformers<5.0.0,>=4.32.0 in /home/codespace/.local/lib/python3.10/site-packages (from sentence-transformers==2.6.1->-r ../requirements.txt (line 8)) (4.39.3)\n",
      "Requirement already satisfied: torch>=1.11.0 in /home/codespace/.local/lib/python3.10/site-packages (from sentence-transformers==2.6.1->-r ../requirements.txt (line 8)) (2.2.2)\n",
      "Requirement already satisfied: scikit-learn in /home/codespace/.local/lib/python3.10/site-packages (from sentence-transformers==2.6.1->-r ../requirements.txt (line 8)) (1.4.1.post1)\n",
      "Requirement already satisfied: scipy in /home/codespace/.local/lib/python3.10/site-packages (from sentence-transformers==2.6.1->-r ../requirements.txt (line 8)) (1.13.0)\n",
      "Requirement already satisfied: huggingface-hub>=0.15.1 in /home/codespace/.local/lib/python3.10/site-packages (from sentence-transformers==2.6.1->-r ../requirements.txt (line 8)) (0.22.2)\n",
      "Requirement already satisfied: Pillow in /home/codespace/.local/lib/python3.10/site-packages (from sentence-transformers==2.6.1->-r ../requirements.txt (line 8)) (10.3.0)\n",
      "Requirement already satisfied: chardet in /home/codespace/.local/lib/python3.10/site-packages (from unstructured==0.13.2->-r ../requirements.txt (line 9)) (5.2.0)\n",
      "Requirement already satisfied: filetype in /home/codespace/.local/lib/python3.10/site-packages (from unstructured==0.13.2->-r ../requirements.txt (line 9)) (1.2.0)\n",
      "Requirement already satisfied: python-magic in /home/codespace/.local/lib/python3.10/site-packages (from unstructured==0.13.2->-r ../requirements.txt (line 9)) (0.4.27)\n",
      "Requirement already satisfied: lxml in /home/codespace/.local/lib/python3.10/site-packages (from unstructured==0.13.2->-r ../requirements.txt (line 9)) (5.2.1)\n",
      "Requirement already satisfied: nltk in /home/codespace/.local/lib/python3.10/site-packages (from unstructured==0.13.2->-r ../requirements.txt (line 9)) (3.8.1)\n",
      "Requirement already satisfied: tabulate in /home/codespace/.local/lib/python3.10/site-packages (from unstructured==0.13.2->-r ../requirements.txt (line 9)) (0.9.0)\n",
      "Requirement already satisfied: beautifulsoup4 in /home/codespace/.local/lib/python3.10/site-packages (from unstructured==0.13.2->-r ../requirements.txt (line 9)) (4.12.3)\n",
      "Requirement already satisfied: emoji in /home/codespace/.local/lib/python3.10/site-packages (from unstructured==0.13.2->-r ../requirements.txt (line 9)) (2.11.0)\n",
      "Requirement already satisfied: python-iso639 in /home/codespace/.local/lib/python3.10/site-packages (from unstructured==0.13.2->-r ../requirements.txt (line 9)) (2024.2.7)\n",
      "Requirement already satisfied: langdetect in /home/codespace/.local/lib/python3.10/site-packages (from unstructured==0.13.2->-r ../requirements.txt (line 9)) (1.0.9)\n",
      "Requirement already satisfied: rapidfuzz in /home/codespace/.local/lib/python3.10/site-packages (from unstructured==0.13.2->-r ../requirements.txt (line 9)) (3.8.1)\n",
      "Requirement already satisfied: backoff in /home/codespace/.local/lib/python3.10/site-packages (from unstructured==0.13.2->-r ../requirements.txt (line 9)) (2.2.1)\n",
      "Requirement already satisfied: unstructured-client<=0.18.0 in /home/codespace/.local/lib/python3.10/site-packages (from unstructured==0.13.2->-r ../requirements.txt (line 9)) (0.18.0)\n",
      "Requirement already satisfied: wrapt in /home/codespace/.local/lib/python3.10/site-packages (from unstructured==0.13.2->-r ../requirements.txt (line 9)) (1.16.0)\n",
      "Requirement already satisfied: gitdb<5,>=4.0.1 in /home/codespace/.local/lib/python3.10/site-packages (from GitPython==3.1.43->-r ../requirements.txt (line 10)) (4.0.11)\n",
      "Requirement already satisfied: aiosignal>=1.1.2 in /home/codespace/.local/lib/python3.10/site-packages (from aiohttp<4.0.0,>=3.8.3->langchain==0.1.16->-r ../requirements.txt (line 1)) (1.3.1)\n",
      "Requirement already satisfied: attrs>=17.3.0 in /home/codespace/.local/lib/python3.10/site-packages (from aiohttp<4.0.0,>=3.8.3->langchain==0.1.16->-r ../requirements.txt (line 1)) (23.2.0)\n",
      "Requirement already satisfied: frozenlist>=1.1.1 in /home/codespace/.local/lib/python3.10/site-packages (from aiohttp<4.0.0,>=3.8.3->langchain==0.1.16->-r ../requirements.txt (line 1)) (1.4.1)\n",
      "Requirement already satisfied: multidict<7.0,>=4.5 in /home/codespace/.local/lib/python3.10/site-packages (from aiohttp<4.0.0,>=3.8.3->langchain==0.1.16->-r ../requirements.txt (line 1)) (6.0.5)\n",
      "Requirement already satisfied: yarl<2.0,>=1.0 in /home/codespace/.local/lib/python3.10/site-packages (from aiohttp<4.0.0,>=3.8.3->langchain==0.1.16->-r ../requirements.txt (line 1)) (1.9.4)\n",
      "Requirement already satisfied: idna>=2.8 in /home/codespace/.local/lib/python3.10/site-packages (from anyio<5,>=3.5.0->openai==1.17.0->-r ../requirements.txt (line 4)) (3.6)\n",
      "Requirement already satisfied: exceptiongroup>=1.0.2 in /home/codespace/.local/lib/python3.10/site-packages (from anyio<5,>=3.5.0->openai==1.17.0->-r ../requirements.txt (line 4)) (1.2.0)\n",
      "Requirement already satisfied: packaging>=19.1 in /home/codespace/.local/lib/python3.10/site-packages (from build>=1.0.3->chromadb==0.4.24->-r ../requirements.txt (line 6)) (23.2)\n",
      "Requirement already satisfied: pyproject_hooks in /home/codespace/.local/lib/python3.10/site-packages (from build>=1.0.3->chromadb==0.4.24->-r ../requirements.txt (line 6)) (1.0.0)\n",
      "Requirement already satisfied: tomli>=1.1.0 in /home/codespace/.local/lib/python3.10/site-packages (from build>=1.0.3->chromadb==0.4.24->-r ../requirements.txt (line 6)) (2.0.1)\n",
      "Requirement already satisfied: marshmallow<4.0.0,>=3.18.0 in /home/codespace/.local/lib/python3.10/site-packages (from dataclasses-json<0.7,>=0.5.7->langchain==0.1.16->-r ../requirements.txt (line 1)) (3.21.1)\n",
      "Requirement already satisfied: typing-inspect<1,>=0.4.0 in /home/codespace/.local/lib/python3.10/site-packages (from dataclasses-json<0.7,>=0.5.7->langchain==0.1.16->-r ../requirements.txt (line 1)) (0.9.0)\n",
      "Requirement already satisfied: starlette<0.38.0,>=0.37.2 in /home/codespace/.local/lib/python3.10/site-packages (from fastapi>=0.95.2->chromadb==0.4.24->-r ../requirements.txt (line 6)) (0.37.2)\n",
      "Requirement already satisfied: smmap<6,>=3.0.1 in /home/codespace/.local/lib/python3.10/site-packages (from gitdb<5,>=4.0.1->GitPython==3.1.43->-r ../requirements.txt (line 10)) (5.0.1)\n",
      "Requirement already satisfied: certifi in /home/codespace/.local/lib/python3.10/site-packages (from httpx<1,>=0.23.0->openai==1.17.0->-r ../requirements.txt (line 4)) (2024.2.2)\n",
      "Requirement already satisfied: httpcore==1.* in /home/codespace/.local/lib/python3.10/site-packages (from httpx<1,>=0.23.0->openai==1.17.0->-r ../requirements.txt (line 4)) (1.0.5)\n",
      "Requirement already satisfied: h11<0.15,>=0.13 in /home/codespace/.local/lib/python3.10/site-packages (from httpcore==1.*->httpx<1,>=0.23.0->openai==1.17.0->-r ../requirements.txt (line 4)) (0.14.0)\n",
      "Requirement already satisfied: filelock in /home/codespace/.local/lib/python3.10/site-packages (from huggingface-hub>=0.15.1->sentence-transformers==2.6.1->-r ../requirements.txt (line 8)) (3.13.3)\n",
      "Requirement already satisfied: fsspec>=2023.5.0 in /home/codespace/.local/lib/python3.10/site-packages (from huggingface-hub>=0.15.1->sentence-transformers==2.6.1->-r ../requirements.txt (line 8)) (2024.3.1)\n",
      "Requirement already satisfied: jsonpointer>=1.9 in /home/codespace/.local/lib/python3.10/site-packages (from jsonpatch<2.0,>=1.33->langchain==0.1.16->-r ../requirements.txt (line 1)) (2.4)\n",
      "Requirement already satisfied: six>=1.9.0 in /home/codespace/.local/lib/python3.10/site-packages (from kubernetes>=28.1.0->chromadb==0.4.24->-r ../requirements.txt (line 6)) (1.16.0)\n",
      "Requirement already satisfied: python-dateutil>=2.5.3 in /home/codespace/.local/lib/python3.10/site-packages (from kubernetes>=28.1.0->chromadb==0.4.24->-r ../requirements.txt (line 6)) (2.9.0.post0)\n",
      "Requirement already satisfied: google-auth>=1.0.1 in /home/codespace/.local/lib/python3.10/site-packages (from kubernetes>=28.1.0->chromadb==0.4.24->-r ../requirements.txt (line 6)) (2.29.0)\n",
      "Requirement already satisfied: websocket-client!=0.40.0,!=0.41.*,!=0.42.*,>=0.32.0 in /home/codespace/.local/lib/python3.10/site-packages (from kubernetes>=28.1.0->chromadb==0.4.24->-r ../requirements.txt (line 6)) (1.7.0)\n",
      "Requirement already satisfied: requests-oauthlib in /home/codespace/.local/lib/python3.10/site-packages (from kubernetes>=28.1.0->chromadb==0.4.24->-r ../requirements.txt (line 6)) (2.0.0)\n",
      "Requirement already satisfied: oauthlib>=3.2.2 in /home/codespace/.local/lib/python3.10/site-packages (from kubernetes>=28.1.0->chromadb==0.4.24->-r ../requirements.txt (line 6)) (3.2.2)\n",
      "Requirement already satisfied: urllib3>=1.24.2 in /home/codespace/.local/lib/python3.10/site-packages (from kubernetes>=28.1.0->chromadb==0.4.24->-r ../requirements.txt (line 6)) (2.2.1)\n",
      "Requirement already satisfied: coloredlogs in /home/codespace/.local/lib/python3.10/site-packages (from onnxruntime>=1.14.1->chromadb==0.4.24->-r ../requirements.txt (line 6)) (15.0.1)\n",
      "Requirement already satisfied: flatbuffers in /home/codespace/.local/lib/python3.10/site-packages (from onnxruntime>=1.14.1->chromadb==0.4.24->-r ../requirements.txt (line 6)) (24.3.25)\n",
      "Requirement already satisfied: protobuf in /home/codespace/.local/lib/python3.10/site-packages (from onnxruntime>=1.14.1->chromadb==0.4.24->-r ../requirements.txt (line 6)) (4.25.3)\n",
      "Requirement already satisfied: sympy in /home/codespace/.local/lib/python3.10/site-packages (from onnxruntime>=1.14.1->chromadb==0.4.24->-r ../requirements.txt (line 6)) (1.12)\n",
      "Requirement already satisfied: deprecated>=1.2.6 in /home/codespace/.local/lib/python3.10/site-packages (from opentelemetry-api>=1.2.0->chromadb==0.4.24->-r ../requirements.txt (line 6)) (1.2.14)\n",
      "Requirement already satisfied: importlib-metadata<=7.0,>=6.0 in /home/codespace/.local/lib/python3.10/site-packages (from opentelemetry-api>=1.2.0->chromadb==0.4.24->-r ../requirements.txt (line 6)) (7.0.0)\n",
      "Requirement already satisfied: googleapis-common-protos~=1.52 in /home/codespace/.local/lib/python3.10/site-packages (from opentelemetry-exporter-otlp-proto-grpc>=1.2.0->chromadb==0.4.24->-r ../requirements.txt (line 6)) (1.63.0)\n",
      "Requirement already satisfied: opentelemetry-exporter-otlp-proto-common==1.24.0 in /home/codespace/.local/lib/python3.10/site-packages (from opentelemetry-exporter-otlp-proto-grpc>=1.2.0->chromadb==0.4.24->-r ../requirements.txt (line 6)) (1.24.0)\n",
      "Requirement already satisfied: opentelemetry-proto==1.24.0 in /home/codespace/.local/lib/python3.10/site-packages (from opentelemetry-exporter-otlp-proto-grpc>=1.2.0->chromadb==0.4.24->-r ../requirements.txt (line 6)) (1.24.0)\n",
      "Requirement already satisfied: opentelemetry-instrumentation-asgi==0.45b0 in /home/codespace/.local/lib/python3.10/site-packages (from opentelemetry-instrumentation-fastapi>=0.41b0->chromadb==0.4.24->-r ../requirements.txt (line 6)) (0.45b0)\n",
      "Requirement already satisfied: opentelemetry-instrumentation==0.45b0 in /home/codespace/.local/lib/python3.10/site-packages (from opentelemetry-instrumentation-fastapi>=0.41b0->chromadb==0.4.24->-r ../requirements.txt (line 6)) (0.45b0)\n",
      "Requirement already satisfied: opentelemetry-semantic-conventions==0.45b0 in /home/codespace/.local/lib/python3.10/site-packages (from opentelemetry-instrumentation-fastapi>=0.41b0->chromadb==0.4.24->-r ../requirements.txt (line 6)) (0.45b0)\n",
      "Requirement already satisfied: opentelemetry-util-http==0.45b0 in /home/codespace/.local/lib/python3.10/site-packages (from opentelemetry-instrumentation-fastapi>=0.41b0->chromadb==0.4.24->-r ../requirements.txt (line 6)) (0.45b0)\n",
      "Requirement already satisfied: setuptools>=16.0 in /home/codespace/.local/lib/python3.10/site-packages (from opentelemetry-instrumentation==0.45b0->opentelemetry-instrumentation-fastapi>=0.41b0->chromadb==0.4.24->-r ../requirements.txt (line 6)) (69.5.0)\n",
      "Requirement already satisfied: asgiref~=3.0 in /home/codespace/.local/lib/python3.10/site-packages (from opentelemetry-instrumentation-asgi==0.45b0->opentelemetry-instrumentation-fastapi>=0.41b0->chromadb==0.4.24->-r ../requirements.txt (line 6)) (3.8.1)\n",
      "Requirement already satisfied: monotonic>=1.5 in /home/codespace/.local/lib/python3.10/site-packages (from posthog>=2.4.0->chromadb==0.4.24->-r ../requirements.txt (line 6)) (1.6)\n",
      "Requirement already satisfied: annotated-types>=0.4.0 in /home/codespace/.local/lib/python3.10/site-packages (from pydantic<3,>=1->langchain==0.1.16->-r ../requirements.txt (line 1)) (0.6.0)\n",
      "Requirement already satisfied: pydantic-core==2.18.1 in /home/codespace/.local/lib/python3.10/site-packages (from pydantic<3,>=1->langchain==0.1.16->-r ../requirements.txt (line 1)) (2.18.1)\n",
      "Requirement already satisfied: charset-normalizer<4,>=2 in /home/codespace/.local/lib/python3.10/site-packages (from requests<3,>=2->langchain==0.1.16->-r ../requirements.txt (line 1)) (3.3.2)\n",
      "Requirement already satisfied: greenlet!=0.4.17 in /home/codespace/.local/lib/python3.10/site-packages (from SQLAlchemy<3,>=1.4->langchain==0.1.16->-r ../requirements.txt (line 1)) (3.0.3)\n",
      "Requirement already satisfied: networkx in /home/codespace/.local/lib/python3.10/site-packages (from torch>=1.11.0->sentence-transformers==2.6.1->-r ../requirements.txt (line 8)) (3.2.1)\n",
      "Requirement already satisfied: jinja2 in /home/codespace/.local/lib/python3.10/site-packages (from torch>=1.11.0->sentence-transformers==2.6.1->-r ../requirements.txt (line 8)) (3.1.3)\n",
      "Requirement already satisfied: nvidia-cuda-nvrtc-cu12==12.1.105 in /home/codespace/.local/lib/python3.10/site-packages (from torch>=1.11.0->sentence-transformers==2.6.1->-r ../requirements.txt (line 8)) (12.1.105)\n",
      "Requirement already satisfied: nvidia-cuda-runtime-cu12==12.1.105 in /home/codespace/.local/lib/python3.10/site-packages (from torch>=1.11.0->sentence-transformers==2.6.1->-r ../requirements.txt (line 8)) (12.1.105)\n",
      "Requirement already satisfied: nvidia-cuda-cupti-cu12==12.1.105 in /home/codespace/.local/lib/python3.10/site-packages (from torch>=1.11.0->sentence-transformers==2.6.1->-r ../requirements.txt (line 8)) (12.1.105)\n",
      "Requirement already satisfied: nvidia-cudnn-cu12==8.9.2.26 in /home/codespace/.local/lib/python3.10/site-packages (from torch>=1.11.0->sentence-transformers==2.6.1->-r ../requirements.txt (line 8)) (8.9.2.26)\n",
      "Requirement already satisfied: nvidia-cublas-cu12==12.1.3.1 in /home/codespace/.local/lib/python3.10/site-packages (from torch>=1.11.0->sentence-transformers==2.6.1->-r ../requirements.txt (line 8)) (12.1.3.1)\n",
      "Requirement already satisfied: nvidia-cufft-cu12==11.0.2.54 in /home/codespace/.local/lib/python3.10/site-packages (from torch>=1.11.0->sentence-transformers==2.6.1->-r ../requirements.txt (line 8)) (11.0.2.54)\n",
      "Requirement already satisfied: nvidia-curand-cu12==10.3.2.106 in /home/codespace/.local/lib/python3.10/site-packages (from torch>=1.11.0->sentence-transformers==2.6.1->-r ../requirements.txt (line 8)) (10.3.2.106)\n",
      "Requirement already satisfied: nvidia-cusolver-cu12==11.4.5.107 in /home/codespace/.local/lib/python3.10/site-packages (from torch>=1.11.0->sentence-transformers==2.6.1->-r ../requirements.txt (line 8)) (11.4.5.107)\n",
      "Requirement already satisfied: nvidia-cusparse-cu12==12.1.0.106 in /home/codespace/.local/lib/python3.10/site-packages (from torch>=1.11.0->sentence-transformers==2.6.1->-r ../requirements.txt (line 8)) (12.1.0.106)\n",
      "Requirement already satisfied: nvidia-nccl-cu12==2.19.3 in /home/codespace/.local/lib/python3.10/site-packages (from torch>=1.11.0->sentence-transformers==2.6.1->-r ../requirements.txt (line 8)) (2.19.3)\n",
      "Requirement already satisfied: nvidia-nvtx-cu12==12.1.105 in /home/codespace/.local/lib/python3.10/site-packages (from torch>=1.11.0->sentence-transformers==2.6.1->-r ../requirements.txt (line 8)) (12.1.105)\n",
      "Requirement already satisfied: triton==2.2.0 in /home/codespace/.local/lib/python3.10/site-packages (from torch>=1.11.0->sentence-transformers==2.6.1->-r ../requirements.txt (line 8)) (2.2.0)\n",
      "Requirement already satisfied: nvidia-nvjitlink-cu12 in /home/codespace/.local/lib/python3.10/site-packages (from nvidia-cusolver-cu12==11.4.5.107->torch>=1.11.0->sentence-transformers==2.6.1->-r ../requirements.txt (line 8)) (12.4.127)\n",
      "Requirement already satisfied: safetensors>=0.4.1 in /home/codespace/.local/lib/python3.10/site-packages (from transformers<5.0.0,>=4.32.0->sentence-transformers==2.6.1->-r ../requirements.txt (line 8)) (0.4.2)\n",
      "Requirement already satisfied: click>=8.0.0 in /home/codespace/.local/lib/python3.10/site-packages (from typer>=0.9.0->chromadb==0.4.24->-r ../requirements.txt (line 6)) (8.1.7)\n",
      "Requirement already satisfied: shellingham>=1.3.0 in /home/codespace/.local/lib/python3.10/site-packages (from typer>=0.9.0->chromadb==0.4.24->-r ../requirements.txt (line 6)) (1.5.4)\n",
      "Requirement already satisfied: rich>=10.11.0 in /home/codespace/.local/lib/python3.10/site-packages (from typer>=0.9.0->chromadb==0.4.24->-r ../requirements.txt (line 6)) (13.7.1)\n",
      "Requirement already satisfied: dataclasses-json-speakeasy>=0.5.11 in /home/codespace/.local/lib/python3.10/site-packages (from unstructured-client<=0.18.0->unstructured==0.13.2->-r ../requirements.txt (line 9)) (0.5.11)\n",
      "Requirement already satisfied: jsonpath-python>=1.0.6 in /home/codespace/.local/lib/python3.10/site-packages (from unstructured-client<=0.18.0->unstructured==0.13.2->-r ../requirements.txt (line 9)) (1.0.6)\n",
      "Requirement already satisfied: mypy-extensions>=1.0.0 in /home/codespace/.local/lib/python3.10/site-packages (from unstructured-client<=0.18.0->unstructured==0.13.2->-r ../requirements.txt (line 9)) (1.0.0)\n",
      "Requirement already satisfied: httptools>=0.5.0 in /home/codespace/.local/lib/python3.10/site-packages (from uvicorn[standard]>=0.18.3->chromadb==0.4.24->-r ../requirements.txt (line 6)) (0.6.1)\n",
      "Requirement already satisfied: python-dotenv>=0.13 in /home/codespace/.local/lib/python3.10/site-packages (from uvicorn[standard]>=0.18.3->chromadb==0.4.24->-r ../requirements.txt (line 6)) (1.0.1)\n",
      "Requirement already satisfied: uvloop!=0.15.0,!=0.15.1,>=0.14.0 in /home/codespace/.local/lib/python3.10/site-packages (from uvicorn[standard]>=0.18.3->chromadb==0.4.24->-r ../requirements.txt (line 6)) (0.19.0)\n",
      "Requirement already satisfied: watchfiles>=0.13 in /home/codespace/.local/lib/python3.10/site-packages (from uvicorn[standard]>=0.18.3->chromadb==0.4.24->-r ../requirements.txt (line 6)) (0.21.0)\n",
      "Requirement already satisfied: websockets>=10.4 in /home/codespace/.local/lib/python3.10/site-packages (from uvicorn[standard]>=0.18.3->chromadb==0.4.24->-r ../requirements.txt (line 6)) (12.0)\n",
      "Requirement already satisfied: soupsieve>1.2 in /home/codespace/.local/lib/python3.10/site-packages (from beautifulsoup4->unstructured==0.13.2->-r ../requirements.txt (line 9)) (2.5)\n",
      "Requirement already satisfied: joblib in /home/codespace/.local/lib/python3.10/site-packages (from nltk->unstructured==0.13.2->-r ../requirements.txt (line 9)) (1.3.2)\n",
      "Requirement already satisfied: threadpoolctl>=2.0.0 in /home/codespace/.local/lib/python3.10/site-packages (from scikit-learn->sentence-transformers==2.6.1->-r ../requirements.txt (line 8)) (3.4.0)\n",
      "Requirement already satisfied: cachetools<6.0,>=2.0.0 in /home/codespace/.local/lib/python3.10/site-packages (from google-auth>=1.0.1->kubernetes>=28.1.0->chromadb==0.4.24->-r ../requirements.txt (line 6)) (5.3.3)\n",
      "Requirement already satisfied: pyasn1-modules>=0.2.1 in /home/codespace/.local/lib/python3.10/site-packages (from google-auth>=1.0.1->kubernetes>=28.1.0->chromadb==0.4.24->-r ../requirements.txt (line 6)) (0.4.0)\n",
      "Requirement already satisfied: rsa<5,>=3.1.4 in /home/codespace/.local/lib/python3.10/site-packages (from google-auth>=1.0.1->kubernetes>=28.1.0->chromadb==0.4.24->-r ../requirements.txt (line 6)) (4.9)\n",
      "Requirement already satisfied: zipp>=0.5 in /home/codespace/.local/lib/python3.10/site-packages (from importlib-metadata<=7.0,>=6.0->opentelemetry-api>=1.2.0->chromadb==0.4.24->-r ../requirements.txt (line 6)) (3.18.1)\n",
      "Requirement already satisfied: markdown-it-py>=2.2.0 in /home/codespace/.local/lib/python3.10/site-packages (from rich>=10.11.0->typer>=0.9.0->chromadb==0.4.24->-r ../requirements.txt (line 6)) (3.0.0)\n",
      "Requirement already satisfied: pygments<3.0.0,>=2.13.0 in /home/codespace/.local/lib/python3.10/site-packages (from rich>=10.11.0->typer>=0.9.0->chromadb==0.4.24->-r ../requirements.txt (line 6)) (2.17.2)\n",
      "Requirement already satisfied: humanfriendly>=9.1 in /home/codespace/.local/lib/python3.10/site-packages (from coloredlogs->onnxruntime>=1.14.1->chromadb==0.4.24->-r ../requirements.txt (line 6)) (10.0)\n",
      "Requirement already satisfied: MarkupSafe>=2.0 in /home/codespace/.local/lib/python3.10/site-packages (from jinja2->torch>=1.11.0->sentence-transformers==2.6.1->-r ../requirements.txt (line 8)) (2.1.5)\n",
      "Requirement already satisfied: mpmath>=0.19 in /home/codespace/.local/lib/python3.10/site-packages (from sympy->onnxruntime>=1.14.1->chromadb==0.4.24->-r ../requirements.txt (line 6)) (1.3.0)\n",
      "Requirement already satisfied: mdurl~=0.1 in /home/codespace/.local/lib/python3.10/site-packages (from markdown-it-py>=2.2.0->rich>=10.11.0->typer>=0.9.0->chromadb==0.4.24->-r ../requirements.txt (line 6)) (0.1.2)\n",
      "Requirement already satisfied: pyasn1<0.7.0,>=0.4.6 in /home/codespace/.local/lib/python3.10/site-packages (from pyasn1-modules>=0.2.1->google-auth>=1.0.1->kubernetes>=28.1.0->chromadb==0.4.24->-r ../requirements.txt (line 6)) (0.6.0)\n",
      "Note: you may need to restart the kernel to use updated packages.\n"
     ]
    }
   ],
   "source": [
    "pip install -r ../requirements.txt"
   ]
  },
  {
   "cell_type": "markdown",
   "metadata": {},
   "source": [
    "# Load environment variables"
   ]
  },
  {
   "cell_type": "code",
   "execution_count": 2,
   "metadata": {},
   "outputs": [],
   "source": [
    "from dotenv import load_dotenv\n",
    "import os\n",
    "\n",
    "load_dotenv()\n",
    "OPENAI_API_KEY = os.environ['OPENAI_API_KEY']"
   ]
  },
  {
   "cell_type": "code",
   "execution_count": 3,
   "metadata": {},
   "outputs": [],
   "source": [
    "##for google colab (optional)\n",
    "# This cell is optional and can be skipped\n",
    "#from google.colab import userdata\n",
    "#API_KEY = userdata.get('OPENAI_API_KEY')"
   ]
  },
  {
   "cell_type": "markdown",
   "metadata": {},
   "source": [
    "## Handle unsupported version of sqlite3 (optional)"
   ]
  },
  {
   "cell_type": "code",
   "execution_count": 4,
   "metadata": {},
   "outputs": [
    {
     "name": "stdout",
     "output_type": "stream",
     "text": [
      "Requirement already satisfied: pysqlite3-binary in /usr/local/python/3.10.13/lib/python3.10/site-packages (0.5.2.post3)\n",
      "Note: you may need to restart the kernel to use updated packages.\n"
     ]
    }
   ],
   "source": [
    "pip install pysqlite3-binary"
   ]
  },
  {
   "cell_type": "code",
   "execution_count": 5,
   "metadata": {},
   "outputs": [],
   "source": [
    "import sys\n",
    "__import__('pysqlite3')\n",
    "sys.modules['sqlite3'] = sys.modules[\"pysqlite3\"]"
   ]
  },
  {
   "cell_type": "code",
   "execution_count": 6,
   "metadata": {},
   "outputs": [],
   "source": [
    "from langchain_text_splitters import RecursiveCharacterTextSplitter\n",
    "from langchain_openai import OpenAIEmbeddings\n",
    "from langchain_openai import ChatOpenAI\n",
    "from langchain_community.document_loaders import GitLoader\n",
    "from langchain.chains import create_history_aware_retriever, create_retrieval_chain\n",
    "from langchain.chains.combine_documents import create_stuff_documents_chain\n",
    "from langchain_core.prompts import ChatPromptTemplate, MessagesPlaceholder\n",
    "from langchain_openai import ChatOpenAI, OpenAIEmbeddings\n",
    "from langchain_text_splitters import RecursiveCharacterTextSplitter\n",
    "from langchain_core.messages import HumanMessage\n",
    "from langchain_community.vectorstores import Chroma"
   ]
  },
  {
   "cell_type": "markdown",
   "metadata": {},
   "source": [
    "# Initialize ChatOpenAI"
   ]
  },
  {
   "cell_type": "code",
   "execution_count": 7,
   "metadata": {},
   "outputs": [],
   "source": [
    "llm = ChatOpenAI(temperature=0.7, max_tokens = 6000, model=\"gpt-3.5-turbo-16k\", openai_api_key=OPENAI_API_KEY)"
   ]
  },
  {
   "cell_type": "markdown",
   "metadata": {},
   "source": [
    "# Load instructions and entities from the official cyoda repository"
   ]
  },
  {
   "cell_type": "code",
   "execution_count": 8,
   "metadata": {},
   "outputs": [
    {
     "name": "stdout",
     "output_type": "stream",
     "text": [
      "Number of documents loaded: 32\n"
     ]
    }
   ],
   "source": [
    "loader = GitLoader(\n",
    "    clone_url=\"https://github.com/Cyoda-platform/cyoda-ai\",\n",
    "    repo_path=\"./data/config-generation/\",\n",
    "    branch=\"cyoda-ai-configurations-3.0.x\",\n",
    ")\n",
    "docs = loader.load()\n",
    "print(f\"Number of documents loaded: {len(docs)}\")"
   ]
  },
  {
   "cell_type": "markdown",
   "metadata": {},
   "source": [
    "# Split documents and create vectorstore"
   ]
  },
  {
   "cell_type": "code",
   "execution_count": 9,
   "metadata": {},
   "outputs": [],
   "source": [
    "text_splitter = RecursiveCharacterTextSplitter(chunk_size=1000, chunk_overlap=200)\n",
    "splits = text_splitter.split_documents(docs)\n",
    "vectorstore = Chroma.from_documents(documents=splits, embedding=OpenAIEmbeddings())\n",
    "retriever = vectorstore.as_retriever(search_kwargs={\"k\": 10})"
   ]
  },
  {
   "cell_type": "code",
   "execution_count": 10,
   "metadata": {},
   "outputs": [
    {
     "name": "stdout",
     "output_type": "stream",
     "text": [
      "125\n"
     ]
    }
   ],
   "source": [
    "count = vectorstore._collection.count()\n",
    "print(count)"
   ]
  },
  {
   "cell_type": "markdown",
   "metadata": {},
   "source": [
    "# Define prompts for contextualizing question and answering question"
   ]
  },
  {
   "cell_type": "code",
   "execution_count": 11,
   "metadata": {},
   "outputs": [],
   "source": [
    "contextualize_q_system_prompt = \"\"\"Given a chat history and the latest user question \\\n",
    "which might reference context in the chat history, formulate a standalone question \\\n",
    "which can be understood without the chat history. Do NOT answer the question, \\\n",
    "just reformulate it if needed and otherwise return it as is.\"\"\"\n",
    "contextualize_q_prompt = ChatPromptTemplate.from_messages(\n",
    "    [\n",
    "        (\"system\", contextualize_q_system_prompt),\n",
    "        MessagesPlaceholder(\"chat_history\"),\n",
    "        (\"human\", \"{input}\"),\n",
    "    ]\n",
    ")\n"
   ]
  },
  {
   "cell_type": "code",
   "execution_count": 12,
   "metadata": {},
   "outputs": [],
   "source": [
    "history_aware_retriever = create_history_aware_retriever(\n",
    "    llm, retriever, contextualize_q_prompt\n",
    ")"
   ]
  },
  {
   "cell_type": "markdown",
   "metadata": {},
   "source": [
    "# Answer question"
   ]
  },
  {
   "cell_type": "code",
   "execution_count": 13,
   "metadata": {},
   "outputs": [],
   "source": [
    "qa_system_prompt = \"\"\"You are a mapping tool. You should do your best to answer the question.\n",
    "Use the following pieces of retrieved context to answer the question. \\\n",
    "\n",
    "{context}\"\"\"\n",
    "qa_prompt = ChatPromptTemplate.from_messages(\n",
    "    [\n",
    "        (\"system\", qa_system_prompt),\n",
    "        MessagesPlaceholder(\"chat_history\"),\n",
    "        (\"human\", \"{input}\"),\n",
    "    ]\n",
    ")\n",
    "question_answer_chain = create_stuff_documents_chain(llm, qa_prompt)\n"
   ]
  },
  {
   "cell_type": "markdown",
   "metadata": {},
   "source": [
    "# Create retrieval chain"
   ]
  },
  {
   "cell_type": "code",
   "execution_count": 14,
   "metadata": {},
   "outputs": [],
   "source": [
    "rag_chain = create_retrieval_chain(history_aware_retriever, question_answer_chain)"
   ]
  },
  {
   "cell_type": "code",
   "execution_count": 15,
   "metadata": {},
   "outputs": [],
   "source": [
    "# Function to read file content\n",
    "def read_file_to_string(file_path):\n",
    "    with open(file_path, 'r') as file:\n",
    "        return file.read()"
   ]
  },
  {
   "cell_type": "markdown",
   "metadata": {},
   "source": [
    "# Define question"
   ]
  },
  {
   "cell_type": "code",
   "execution_count": 16,
   "metadata": {},
   "outputs": [],
   "source": [
    "INPUT = read_file_to_string(\"../data/entities/tender_entity/resources/data_source_inputs/tender_input_1.json\")\n",
    "ENTITY = \"tender_entity\"\n",
    "RETURN_STRING = \"Return only DataMappingConfigDto json.\"\n",
    "question = f\"Produce a mapping from this input to this target entity. Input: {INPUT}. Entity: {ENTITY}. {RETURN_STRING}\""
   ]
  },
  {
   "cell_type": "markdown",
   "metadata": {},
   "source": [
    "# Initialize chat history"
   ]
  },
  {
   "cell_type": "code",
   "execution_count": 18,
   "metadata": {},
   "outputs": [],
   "source": [
    "chat_history = {}"
   ]
  },
  {
   "cell_type": "code",
   "execution_count": 19,
   "metadata": {},
   "outputs": [],
   "source": [
    "# Function to add a message to the chat history\n",
    "def add_to_chat_history(id, question, message):\n",
    "    if id in chat_history:\n",
    "        chat_history[id].extend([HumanMessage(content=question), message])\n",
    "    else:\n",
    "        chat_history[id] = [HumanMessage(content=question), message]"
   ]
  },
  {
   "cell_type": "code",
   "execution_count": 20,
   "metadata": {},
   "outputs": [],
   "source": [
    "# Function to clear chat history\n",
    "def clear_chat_history(id):\n",
    "    if id in chat_history:\n",
    "        del chat_history[id]"
   ]
  },
  {
   "cell_type": "code",
   "execution_count": 21,
   "metadata": {},
   "outputs": [],
   "source": [
    "import uuid\n",
    "\n",
    "# Generate a unique ID for the chat session\n",
    "id = uuid.uuid1()"
   ]
  },
  {
   "cell_type": "code",
   "execution_count": 22,
   "metadata": {},
   "outputs": [],
   "source": [
    "# First question and AI response\n",
    "ai_msg_1 = rag_chain.invoke({\"input\": question, \"chat_history\": chat_history.get(id, [])})\n",
    "add_to_chat_history(id, question, ai_msg_1[\"answer\"])"
   ]
  },
  {
   "cell_type": "code",
   "execution_count": 23,
   "metadata": {},
   "outputs": [
    {
     "name": "stdout",
     "output_type": "stream",
     "text": [
      "{\n",
      "  \"@bean\": \"com.cyoda.plugins.mapping.core.dtos.DataMappingConfigDto\",\n",
      "  \"id\": \"c784c270-f0fe-11ee-9561-ee157423307a\",\n",
      "  \"name\": \"tender\",\n",
      "  \"lastUpdated\": 1712069164720,\n",
      "  \"dataType\": \"JSON\",\n",
      "  \"description\": \"\",\n",
      "  \"entityMappings\": [\n",
      "    {\n",
      "      \"id\": {\n",
      "        \"id\": \"c77e59d0-f0fe-11ee-9561-ee157423307a\"\n",
      "      },\n",
      "      \"name\": \"tender\",\n",
      "      \"entityClass\": \"net.cyoda.saas.model.TenderEntity\",\n",
      "      \"entityRelationConfigs\": [\n",
      "        {\n",
      "          \"srcRelativeRootPath\": \"root:/\"\n",
      "        }\n",
      "      ],\n",
      "      \"columns\": [\n",
      "        {\n",
      "          \"srcColumnPath\": \"id\",\n",
      "          \"dstCyodaColumnPath\": \"id\",\n",
      "          \"dstCyodaColumnPathType\": \"java.lang.String\",\n",
      "          \"dstCollectionElementSetModes\": [],\n",
      "          \"transformer\": {\n",
      "            \"type\": \"SIMPLE\"\n",
      "          }\n",
      "        },\n",
      "        {\n",
      "          \"srcColumnPath\": \"date\",\n",
      "          \"dstCyodaColumnPath\": \"date\",\n",
      "          \"dstCyodaColumnPathType\": \"java.lang.String\",\n",
      "          \"dstCollectionElementSetModes\": [],\n",
      "          \"transformer\": {\n",
      "            \"type\": \"SIMPLE\"\n",
      "          }\n",
      "        },\n",
      "        {\n",
      "          \"srcColumnPath\": \"deadline_date\",\n",
      "          \"dstCyodaColumnPath\": \"deadlineDate\",\n",
      "          \"dstCyodaColumnPathType\": \"java.lang.String\",\n",
      "          \"dstCollectionElementSetModes\": [],\n",
      "          \"transformer\": {\n",
      "            \"type\": \"SIMPLE\"\n",
      "          }\n",
      "        },\n",
      "        {\n",
      "          \"srcColumnPath\": \"deadline_length_days\",\n",
      "          \"dstCyodaColumnPath\": \"deadlineLengthDays\",\n",
      "          \"dstCyodaColumnPathType\": \"java.lang.Integer\",\n",
      "          \"dstCollectionElementSetModes\": [],\n",
      "          \"transformer\": {\n",
      "            \"type\": \"SIMPLE\"\n",
      "          }\n",
      "        },\n",
      "        {\n",
      "          \"srcColumnPath\": \"title\",\n",
      "          \"dstCyodaColumnPath\": \"name\",\n",
      "          \"dstCyodaColumnPathType\": \"java.lang.String\",\n",
      "          \"dstCollectionElementSetModes\": [],\n",
      "          \"transformer\": {\n",
      "            \"type\": \"SIMPLE\"\n",
      "          }\n",
      "        },\n",
      "        {\n",
      "          \"srcColumnPath\": \"category\",\n",
      "          \"dstCyodaColumnPath\": \"category\",\n",
      "          \"dstCyodaColumnPathType\": \"java.lang.String\",\n",
      "          \"dstCollectionElementSetModes\": [],\n",
      "          \"transformer\": {\n",
      "            \"type\": \"SIMPLE\"\n",
      "          }\n",
      "        },\n",
      "        {\n",
      "          \"srcColumnPath\": \"awarded_value\",\n",
      "          \"dstCyodaColumnPath\": \"awardedValue\",\n",
      "          \"dstCyodaColumnPathType\": \"java.lang.Double\",\n",
      "          \"dstCollectionElementSetModes\": [],\n",
      "          \"transformer\": {\n",
      "            \"type\": \"SIMPLE\"\n",
      "          }\n",
      "        },\n",
      "        {\n",
      "          \"srcColumnPath\": \"notices\",\n",
      "          \"dstCyodaColumnPath\": \"notices\",\n",
      "          \"dstCyodaColumnPathType\": \"java.util.List\",\n",
      "          \"dstCollectionElementSetModes\": [\n",
      "            {\n",
      "              \"mode\": \"ADD\",\n",
      "              \"elementType\": \"net.cyoda.saas.model.Notice\"\n",
      "            }\n",
      "          ],\n",
      "          \"transformer\": {\n",
      "            \"type\": \"SIMPLE\"\n",
      "          }\n",
      "        }\n",
      "      ]\n",
      "    }\n",
      "  ]\n",
      "}\n"
     ]
    }
   ],
   "source": [
    "print(ai_msg_1[\"answer\"])"
   ]
  },
  {
   "cell_type": "code",
   "execution_count": null,
   "metadata": {},
   "outputs": [],
   "source": [
    "# Second question and AI response\n",
    "second_question = \"Produce a script for this mapping. Return only script json object\"\n",
    "ai_msg_2 = rag_chain.invoke({\"input\": second_question, \"chat_history\": chat_history.get(id, [])})\n",
    "add_to_chat_history(id, second_question, ai_msg_2[\"answer\"])\n"
   ]
  },
  {
   "cell_type": "code",
   "execution_count": null,
   "metadata": {},
   "outputs": [],
   "source": [
    "# Print the AI's response to the second question\n",
    "print(ai_msg_2[\"answer\"])"
   ]
  },
  {
   "cell_type": "code",
   "execution_count": null,
   "metadata": {},
   "outputs": [],
   "source": [
    "print(chat_history)"
   ]
  },
  {
   "cell_type": "code",
   "execution_count": null,
   "metadata": {},
   "outputs": [],
   "source": [
    "for document in ai_msg_1[\"context\"]:\n",
    "    print(document)\n",
    "    print()"
   ]
  }
 ],
 "metadata": {
  "kernelspec": {
   "display_name": "Python 3 (ipykernel)",
   "language": "python",
   "name": "python3"
  },
  "language_info": {
   "codemirror_mode": {
    "name": "ipython",
    "version": 3
   },
   "file_extension": ".py",
   "mimetype": "text/x-python",
   "name": "python",
   "nbconvert_exporter": "python",
   "pygments_lexer": "ipython3",
   "version": "3.10.13"
  }
 },
 "nbformat": 4,
 "nbformat_minor": 4
}
