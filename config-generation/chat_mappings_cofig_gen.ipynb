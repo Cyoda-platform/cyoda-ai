{
 "cells": [
  {
   "cell_type": "markdown",
   "metadata": {},
   "source": [
    "# AI Cyoda configurations Q&A with RAG Langchain\n",
    "\n",
    "Welcome to this Jupyter notebook! This notebook serves as your guide to developing an AI-powered Question & Answer system using the Langchain library. This system utilizes the Retrieval-Augmented Generation (RAG) model, a powerful tool that leverages OpenAI's GPT-3 model to provide intelligent and context-aware responses.\n",
    "\n",
    "The primary purpose of this notebook is to generate Cyoda mapping configurations and resources. It does so by interacting with the data set available in the official Cyoda repository. By following along, you'll learn how to harness the power of Langchain and RAG to create a sophisticated AI tool for Cyoda.\n",
    "\n",
    "## What will we cover?\n",
    "\n",
    "In this notebook, we will go through the following steps:\n",
    "\n",
    "1. **Setting up the environment**: We will install necessary libraries and load environment variables.\n",
    "\n",
    "2. **Initializing the AI model**: We will initialize the ChatOpenAI model with the appropriate parameters.\n",
    "\n",
    "3. **Loading instructions and entities**: We will load instructions and entities from the official repository using the GitLoader.\n",
    "\n",
    "4. **Splitting documents and creating a vectorstore**: We will split the loaded documents into chunks and create a vectorstore using the Chroma library.\n",
    "\n",
    "5. **Defining prompts for contextualizing and answering questions**: We will define prompts that the AI model will use to contextualize and answer questions.\n",
    "\n",
    "6. **Creating a retrieval chain**: We will create a retrieval chain that combines the history-aware retriever and the question-answer chain.\n",
    "\n",
    "7. **Running the chatbot**: Finally, we will run the chatbot and see it in action!\n",
    "\n",
    "## Let's get started!\n",
    "\n",
    "Please follow along with the code cells and comments to understand each step of the process. If you have any questions or run into any issues, feel free to ask for help. Happy coding!"
   ]
  },
  {
   "cell_type": "markdown",
   "metadata": {},
   "source": [
    "Install requirements"
   ]
  },
  {
   "cell_type": "code",
   "execution_count": null,
   "metadata": {},
   "outputs": [],
   "source": [
    "pip install -r ../requirements.txt"
   ]
  },
  {
   "cell_type": "markdown",
   "metadata": {},
   "source": [
    "# Load environment variables"
   ]
  },
  {
   "cell_type": "code",
   "execution_count": 1,
   "metadata": {},
   "outputs": [],
   "source": [
    "from dotenv import load_dotenv\n",
    "import os\n",
    "\n",
    "load_dotenv()\n",
    "OPENAI_API_KEY = os.environ['OPENAI_API_KEY']\n",
    "WORK_DIR = os.environ['WORK_DIR']"
   ]
  },
  {
   "cell_type": "code",
   "execution_count": null,
   "metadata": {},
   "outputs": [],
   "source": [
    "##for google colab (optional)\n",
    "# This cell is optional and can be skipped\n",
    "#from google.colab import userdata\n",
    "#API_KEY = userdata.get('OPENAI_API_KEY')\n",
    "#WORK_DIR = userdata.get('WORK_DIR')"
   ]
  },
  {
   "cell_type": "markdown",
   "metadata": {},
   "source": [
    "## Handle unsupported version of sqlite3 (optional)"
   ]
  },
  {
   "cell_type": "code",
   "execution_count": null,
   "metadata": {},
   "outputs": [],
   "source": [
    "pip install pysqlite3-binary==0.5.2.post3"
   ]
  },
  {
   "cell_type": "code",
   "execution_count": null,
   "metadata": {},
   "outputs": [],
   "source": [
    "import sys\n",
    "__import__('pysqlite3')\n",
    "sys.modules['sqlite3'] = sys.modules[\"pysqlite3\"]"
   ]
  },
  {
   "cell_type": "markdown",
   "metadata": {},
   "source": [
    "# Initialize ChatOpenAI"
   ]
  },
  {
   "cell_type": "code",
   "execution_count": 2,
   "metadata": {},
   "outputs": [],
   "source": [
    "from langchain_text_splitters import RecursiveCharacterTextSplitter\n",
    "from langchain_openai import OpenAIEmbeddings\n",
    "from langchain_openai import ChatOpenAI\n",
    "from langchain_community.document_loaders import GitLoader\n",
    "from langchain.chains import create_history_aware_retriever, create_retrieval_chain\n",
    "from langchain.chains.combine_documents import create_stuff_documents_chain\n",
    "from langchain_core.prompts import ChatPromptTemplate, MessagesPlaceholder\n",
    "from langchain_openai import ChatOpenAI, OpenAIEmbeddings\n",
    "from langchain_text_splitters import RecursiveCharacterTextSplitter\n",
    "from langchain_core.messages import HumanMessage\n",
    "from langchain_community.vectorstores import Chroma"
   ]
  },
  {
   "cell_type": "code",
   "execution_count": 3,
   "metadata": {},
   "outputs": [],
   "source": [
    "llm = ChatOpenAI(temperature=0, max_tokens = 6000, model=\"gpt-3.5-turbo-16k\", openai_api_key=OPENAI_API_KEY)"
   ]
  },
  {
   "cell_type": "markdown",
   "metadata": {},
   "source": [
    "# Load instructions and entities from the official cyoda repository"
   ]
  },
  {
   "cell_type": "code",
   "execution_count": 4,
   "metadata": {},
   "outputs": [
    {
     "name": "stdout",
     "output_type": "stream",
     "text": [
      "Number of documents loaded: 5\n"
     ]
    }
   ],
   "source": [
    "loader = GitLoader(\n",
    "    clone_url=\"https://github.com/Cyoda-platform/cyoda-ai\",\n",
    "    repo_path=WORK_DIR,\n",
    "    branch=\"cyoda-ai-configurations-3.0.x\",\n",
    "    file_filter=lambda file_path: file_path.startswith(\n",
    "        f\"{WORK_DIR}/data/config-generation/mappings/\"\n",
    "    ),\n",
    ")\n",
    "docs = loader.load()\n",
    "print(f\"Number of documents loaded: {len(docs)}\")"
   ]
  },
  {
   "cell_type": "markdown",
   "metadata": {},
   "source": [
    "# Split documents and create vectorstore"
   ]
  },
  {
   "cell_type": "code",
   "execution_count": 5,
   "metadata": {},
   "outputs": [],
   "source": [
    "text_splitter = RecursiveCharacterTextSplitter(chunk_size=1000, chunk_overlap=200)\n",
    "splits = text_splitter.split_documents(docs)\n",
    "vectorstore = Chroma.from_documents(documents=splits, embedding=OpenAIEmbeddings())\n",
    "retriever = vectorstore.as_retriever(search_kwargs={\"k\": 10})"
   ]
  },
  {
   "cell_type": "code",
   "execution_count": 6,
   "metadata": {},
   "outputs": [
    {
     "name": "stdout",
     "output_type": "stream",
     "text": [
      "33\n"
     ]
    }
   ],
   "source": [
    "count = vectorstore._collection.count()\n",
    "print(count)"
   ]
  },
  {
   "cell_type": "markdown",
   "metadata": {},
   "source": [
    "# Define prompts for contextualizing question and answering question"
   ]
  },
  {
   "cell_type": "code",
   "execution_count": 7,
   "metadata": {},
   "outputs": [],
   "source": [
    "contextualize_q_system_prompt = \"\"\"Given a chat history and the latest user question \\\n",
    "which might reference context in the chat history, formulate a standalone question \\\n",
    "which can be understood without the chat history. Do NOT answer the question, \\\n",
    "just reformulate it if needed and otherwise return it as is.\"\"\"\n",
    "contextualize_q_prompt = ChatPromptTemplate.from_messages(\n",
    "    [\n",
    "        (\"system\", contextualize_q_system_prompt),\n",
    "        MessagesPlaceholder(\"chat_history\"),\n",
    "        (\"human\", \"{input}\"),\n",
    "    ]\n",
    ")\n"
   ]
  },
  {
   "cell_type": "code",
   "execution_count": 8,
   "metadata": {},
   "outputs": [],
   "source": [
    "history_aware_retriever = create_history_aware_retriever(\n",
    "    llm, retriever, contextualize_q_prompt\n",
    ")"
   ]
  },
  {
   "cell_type": "markdown",
   "metadata": {},
   "source": [
    "# Answer question"
   ]
  },
  {
   "cell_type": "code",
   "execution_count": 9,
   "metadata": {},
   "outputs": [],
   "source": [
    "qa_system_prompt = \"\"\"You are a mapping tool. You should do your best to answer the question.\n",
    "Use the following pieces of retrieved context to answer the question. \\\n",
    "\n",
    "{context}\"\"\"\n",
    "qa_prompt = ChatPromptTemplate.from_messages(\n",
    "    [\n",
    "        (\"system\", qa_system_prompt),\n",
    "        MessagesPlaceholder(\"chat_history\"),\n",
    "        (\"human\", \"{input}\"),\n",
    "    ]\n",
    ")\n",
    "question_answer_chain = create_stuff_documents_chain(llm, qa_prompt)\n"
   ]
  },
  {
   "cell_type": "markdown",
   "metadata": {},
   "source": [
    "# Create retrieval chain"
   ]
  },
  {
   "cell_type": "code",
   "execution_count": 10,
   "metadata": {},
   "outputs": [],
   "source": [
    "rag_chain = create_retrieval_chain(history_aware_retriever, question_answer_chain)"
   ]
  },
  {
   "cell_type": "code",
   "execution_count": 11,
   "metadata": {},
   "outputs": [],
   "source": [
    "# Function to read file content\n",
    "def read_file_to_string(file_path):\n",
    "    with open(file_path, 'r') as file:\n",
    "        return file.read()"
   ]
  },
  {
   "cell_type": "markdown",
   "metadata": {},
   "source": [
    "# Define question"
   ]
  },
  {
   "cell_type": "code",
   "execution_count": 12,
   "metadata": {},
   "outputs": [],
   "source": [
    "INPUT = read_file_to_string(f\"{WORK_DIR}/data/entities/tender_entity/resources/data_source_inputs/tender_input_1.json\")\n",
    "ENTITY = \"net.cyoda.saas.model.TenderEntity\"\n",
    "RETURN_STRING = \"Return only DataMappingConfigDto json.\"\n",
    "question = f\"Produce a mapping from this input to this target entity. Input: {INPUT}. Entity: {ENTITY}. {RETURN_STRING}. Work only with JSON attributes that are simple and not arrays. Do NOT use any atributes that are not present in schema. {RETURN_STRING}.\""
   ]
  },
  {
   "cell_type": "markdown",
   "metadata": {},
   "source": [
    "# Initialize chat history"
   ]
  },
  {
   "cell_type": "code",
   "execution_count": 13,
   "metadata": {},
   "outputs": [],
   "source": [
    "chat_history = {}"
   ]
  },
  {
   "cell_type": "code",
   "execution_count": 14,
   "metadata": {},
   "outputs": [],
   "source": [
    "# Function to add a message to the chat history\n",
    "def add_to_chat_history(id, question, message):\n",
    "    if id in chat_history:\n",
    "        chat_history[id].extend([HumanMessage(content=question), message])\n",
    "    else:\n",
    "        chat_history[id] = [HumanMessage(content=question), message]"
   ]
  },
  {
   "cell_type": "code",
   "execution_count": 15,
   "metadata": {},
   "outputs": [],
   "source": [
    "# Function to clear chat history\n",
    "def clear_chat_history(id):\n",
    "    if id in chat_history:\n",
    "        del chat_history[id]"
   ]
  },
  {
   "cell_type": "code",
   "execution_count": 16,
   "metadata": {},
   "outputs": [],
   "source": [
    "import uuid\n",
    "\n",
    "# Generate a unique ID for the chat session\n",
    "id = uuid.uuid1()"
   ]
  },
  {
   "cell_type": "code",
   "execution_count": 17,
   "metadata": {},
   "outputs": [],
   "source": [
    "# First question and AI response\n",
    "ai_msg_1 = rag_chain.invoke({\"input\": question, \"chat_history\": chat_history.get(id, [])})\n",
    "add_to_chat_history(id, question, ai_msg_1[\"answer\"])"
   ]
  },
  {
   "cell_type": "code",
   "execution_count": 18,
   "metadata": {},
   "outputs": [
    {
     "name": "stdout",
     "output_type": "stream",
     "text": [
      "{\n",
      "    \"@bean\": \"com.cyoda.plugins.mapping.core.dtos.DataMappingConfigDto\",\n",
      "    \"id\": \"c784c270-f0fe-11ee-9561-ee157423307a\",\n",
      "    \"name\": \"tender\",\n",
      "    \"lastUpdated\": 1712069164720,\n",
      "    \"dataType\": \"JSON\",\n",
      "    \"description\": \"\",\n",
      "    \"entityMappings\": [\n",
      "        {\n",
      "            \"id\": {\n",
      "                \"id\": \"c77e59d0-f0fe-11ee-9561-ee157423307a\"\n",
      "            },\n",
      "            \"name\": \"tender\",\n",
      "            \"entityClass\": \"net.cyoda.saas.model.TenderEntity\",\n",
      "            \"entityRelationConfigs\": [\n",
      "                {\n",
      "                    \"srcRelativeRootPath\": \"root:/\"\n",
      "                }\n",
      "            ],\n",
      "            \"columns\": [\n",
      "                {\n",
      "                    \"srcColumnPath\": \"date\",\n",
      "                    \"dstCyodaColumnPath\": \"date\",\n",
      "                    \"dstCyodaColumnPathType\": \"java.lang.String\",\n",
      "                    \"dstCollectionElementSetModes\": [],\n",
      "                    \"transformer\": {\n",
      "                        \"type\": \"COMPOSITE\",\n",
      "                        \"children\": []\n",
      "                    }\n",
      "                },\n",
      "                {\n",
      "                    \"srcColumnPath\": \"deadline_date\",\n",
      "                    \"dstCyodaColumnPath\": \"deadlineDate\",\n",
      "                    \"dstCyodaColumnPathType\": \"java.lang.String\",\n",
      "                    \"dstCollectionElementSetModes\": [],\n",
      "                    \"transformer\": {\n",
      "                        \"type\": \"COMPOSITE\",\n",
      "                        \"children\": []\n",
      "                    }\n",
      "                },\n",
      "                {\n",
      "                    \"srcColumnPath\": \"deadline_length_days\",\n",
      "                    \"dstCyodaColumnPath\": \"deadlineLengthDays\",\n",
      "                    \"dstCyodaColumnPathType\": \"java.lang.Integer\",\n",
      "                    \"dstCollectionElementSetModes\": [],\n",
      "                    \"transformer\": {\n",
      "                        \"type\": \"COMPOSITE\",\n",
      "                        \"children\": []\n",
      "                    }\n",
      "                },\n",
      "                {\n",
      "                    \"srcColumnPath\": \"title\",\n",
      "                    \"dstCyodaColumnPath\": \"name\",\n",
      "                    \"dstCyodaColumnPathType\": \"java.lang.String\",\n",
      "                    \"dstCollectionElementSetModes\": [],\n",
      "                    \"transformer\": {\n",
      "                        \"type\": \"COMPOSITE\",\n",
      "                        \"children\": []\n",
      "                    }\n",
      "                },\n",
      "                {\n",
      "                    \"srcColumnPath\": \"category\",\n",
      "                    \"dstCyodaColumnPath\": \"category\",\n",
      "                    \"dstCyodaColumnPathType\": \"java.lang.String\",\n",
      "                    \"dstCollectionElementSetModes\": [],\n",
      "                    \"transformer\": {\n",
      "                        \"type\": \"COMPOSITE\",\n",
      "                        \"children\": []\n",
      "                    }\n",
      "                },\n",
      "                {\n",
      "                    \"srcColumnPath\": \"awarded_value\",\n",
      "                    \"dstCyodaColumnPath\": \"awardedValue\",\n",
      "                    \"dstCyodaColumnPathType\": \"java.lang.Double\",\n",
      "                    \"dstCollectionElementSetModes\": [],\n",
      "                    \"transformer\": {\n",
      "                        \"type\": \"COMPOSITE\",\n",
      "                        \"children\": []\n",
      "                    }\n",
      "                },\n",
      "                {\n",
      "                    \"srcColumnPath\": \"purchaser.name\",\n",
      "                    \"dstCyodaColumnPath\": \"purchaser\",\n",
      "                    \"dstCyodaColumnPathType\": \"java.lang.String\",\n",
      "                    \"dstCollectionElementSetModes\": [],\n",
      "                    \"transformer\": {\n",
      "                        \"type\": \"COMPOSITE\",\n",
      "                        \"children\": []\n",
      "                    }\n",
      "                }\n",
      "            ]\n",
      "        }\n",
      "    ]\n",
      "}\n"
     ]
    }
   ],
   "source": [
    "print(ai_msg_1[\"answer\"])"
   ]
  },
  {
   "cell_type": "code",
   "execution_count": 19,
   "metadata": {},
   "outputs": [
    {
     "name": "stdout",
     "output_type": "stream",
     "text": [
      "{\n",
      "    \"body\": \"var notices = [];\\nvar Notice = Java.type('net.cyoda.saas.model.Notice');\\n\\n// Add notices from input\\nfor (var i = 0; i < input.notices.length; i++) {\\n    var notice = new Notice();\\n    notice.setId(input.notices[i].id != null ? input.notices[i].id : 0);\\n    notice.setDate(input.notices[i].date != null ? input.notices[i].date : \\\"00-00-00\\\");\\n    notice.setType(input.notices[i].type != null ? input.notices[i].type : \\\"Unknown type\\\");\\n    notices.push(notice);\\n}\\nentity.setNotices(notices);\\n\",\n",
      "    \"inputSrcPaths\": [\n",
      "        \"notices/*/id\",\n",
      "        \"notices/*/date\",\n",
      "        \"notices/*/type\"\n",
      "    ]\n",
      "}\n"
     ]
    }
   ],
   "source": [
    "# Second question and AI response\n",
    "second_question = \"Produce a script for this mapping. Return only script json object which contains body and inputSrcPaths inside script attribute.\"\n",
    "ai_msg_2 = rag_chain.invoke({\"input\": second_question, \"chat_history\": chat_history.get(id, [])})\n",
    "add_to_chat_history(id, second_question, ai_msg_2[\"answer\"])\n",
    "print(ai_msg_2[\"answer\"])"
   ]
  },
  {
   "cell_type": "code",
   "execution_count": 20,
   "metadata": {},
   "outputs": [
    {
     "name": "stdout",
     "output_type": "stream",
     "text": [
      "{UUID('6809e334-fbc1-11ee-a4da-f01898ec22af'): [HumanMessage(content='Produce a mapping from this input to this target entity. Input: {\\n  \"id\": \"1\",\\n  \"date\": \"2019-07-16\",\\n  \"deadline_date\": \"2019-07-25\",\\n  \"deadline_length_days\": \"9\",\\n  \"title\": \"Sustitucin de duchas de los baos del pasillo C y D de la Residencia Juvenil Baltasar Gracian\",\\n  \"category\": \"constructions\",\\n  \"sid\": \"3996914\",\\n  \"src_url\": \"https\",\\n  \"src_final_url\": \"https\",\\n  \"awarded_value\": \"20252.00\",\\n  \"awarded_currency\": \"EUR\",\\n  \"purchaser\": {\\n    \"id\": \"1\",\\n    \"sid\": null,\\n    \"name\": null\\n  },\\n  \"type\": {\\n    \"id\": \"minor-contract\",\\n    \"name\": \"Minor contract\",\\n    \"slug\": \"minor-contract\"\\n  },\\n  \"notices\": [\\n    {\\n      \"id\": null,\\n      \"sid\": null,\\n      \"date\": \"2019-08-30\",\\n      \"type\": {},\\n      \"src_id\": null,\\n      \"src_url\": null,\\n      \"data\": {\\n        \"date\": \"2019-08-30\",\\n        \"type\": \"Anuncio de Adjudicacin\"\\n      },\\n      \"sections\": []\\n    },\\n    {\\n      \"id\": null,\\n      \"sid\": null,\\n      \"date\": \"2019-07-16\",\\n      \"type\": {},\\n      \"src_id\": null,\\n      \"src_url\": null,\\n      \"data\": {\\n        \"date\": \"2019-07-16\",\\n        \"type\": \"Anuncio de Licitacin\"\\n      },\\n      \"sections\": []\\n    }\\n  ],\\n  \"awarded\": [\\n    {\\n      \"date\": \"2019-08-07\",\\n      \"suppliers_id\": \"1\",\\n      \"count\": \"1\",\\n      \"value\": \"20252.00\",\\n      \"suppliers_name\": \"GESTIMAX, Gestin y Servicios, S.L.\",\\n      \"suppliers\": [\\n        {\\n          \"id\": \"1\",\\n          \"slug\": \"gestimax-gestion-y-servicios-s-l\",\\n          \"name\": \"GESTIMAX, Gestin y Servicios, S.L.\"\\n        }\\n      ],\\n      \"offers_count\": 2,\\n      \"offers_count_data\": {\\n        \"2\": {\\n          \"count\": 1,\\n          \"value\": \"20252.00\"\\n        }\\n      },\\n      \"value_for_one\": 0,\\n      \"value_for_two\": 20252,\\n      \"value_for_three\": 20252\\n    }\\n  ]\\n}. Entity: net.cyoda.saas.model.TenderEntity. Return only DataMappingConfigDto json.. Work only with JSON attributes that are simple and not arrays. Do NOT use any atributes that are not present in schema. Return only DataMappingConfigDto json..'), '{\\n    \"@bean\": \"com.cyoda.plugins.mapping.core.dtos.DataMappingConfigDto\",\\n    \"id\": \"c784c270-f0fe-11ee-9561-ee157423307a\",\\n    \"name\": \"tender\",\\n    \"lastUpdated\": 1712069164720,\\n    \"dataType\": \"JSON\",\\n    \"description\": \"\",\\n    \"entityMappings\": [\\n        {\\n            \"id\": {\\n                \"id\": \"c77e59d0-f0fe-11ee-9561-ee157423307a\"\\n            },\\n            \"name\": \"tender\",\\n            \"entityClass\": \"net.cyoda.saas.model.TenderEntity\",\\n            \"entityRelationConfigs\": [\\n                {\\n                    \"srcRelativeRootPath\": \"root:/\"\\n                }\\n            ],\\n            \"columns\": [\\n                {\\n                    \"srcColumnPath\": \"date\",\\n                    \"dstCyodaColumnPath\": \"date\",\\n                    \"dstCyodaColumnPathType\": \"java.lang.String\",\\n                    \"dstCollectionElementSetModes\": [],\\n                    \"transformer\": {\\n                        \"type\": \"COMPOSITE\",\\n                        \"children\": []\\n                    }\\n                },\\n                {\\n                    \"srcColumnPath\": \"deadline_date\",\\n                    \"dstCyodaColumnPath\": \"deadlineDate\",\\n                    \"dstCyodaColumnPathType\": \"java.lang.String\",\\n                    \"dstCollectionElementSetModes\": [],\\n                    \"transformer\": {\\n                        \"type\": \"COMPOSITE\",\\n                        \"children\": []\\n                    }\\n                },\\n                {\\n                    \"srcColumnPath\": \"deadline_length_days\",\\n                    \"dstCyodaColumnPath\": \"deadlineLengthDays\",\\n                    \"dstCyodaColumnPathType\": \"java.lang.Integer\",\\n                    \"dstCollectionElementSetModes\": [],\\n                    \"transformer\": {\\n                        \"type\": \"COMPOSITE\",\\n                        \"children\": []\\n                    }\\n                },\\n                {\\n                    \"srcColumnPath\": \"title\",\\n                    \"dstCyodaColumnPath\": \"name\",\\n                    \"dstCyodaColumnPathType\": \"java.lang.String\",\\n                    \"dstCollectionElementSetModes\": [],\\n                    \"transformer\": {\\n                        \"type\": \"COMPOSITE\",\\n                        \"children\": []\\n                    }\\n                },\\n                {\\n                    \"srcColumnPath\": \"category\",\\n                    \"dstCyodaColumnPath\": \"category\",\\n                    \"dstCyodaColumnPathType\": \"java.lang.String\",\\n                    \"dstCollectionElementSetModes\": [],\\n                    \"transformer\": {\\n                        \"type\": \"COMPOSITE\",\\n                        \"children\": []\\n                    }\\n                },\\n                {\\n                    \"srcColumnPath\": \"awarded_value\",\\n                    \"dstCyodaColumnPath\": \"awardedValue\",\\n                    \"dstCyodaColumnPathType\": \"java.lang.Double\",\\n                    \"dstCollectionElementSetModes\": [],\\n                    \"transformer\": {\\n                        \"type\": \"COMPOSITE\",\\n                        \"children\": []\\n                    }\\n                },\\n                {\\n                    \"srcColumnPath\": \"purchaser.name\",\\n                    \"dstCyodaColumnPath\": \"purchaser\",\\n                    \"dstCyodaColumnPathType\": \"java.lang.String\",\\n                    \"dstCollectionElementSetModes\": [],\\n                    \"transformer\": {\\n                        \"type\": \"COMPOSITE\",\\n                        \"children\": []\\n                    }\\n                }\\n            ]\\n        }\\n    ]\\n}', HumanMessage(content='Produce a script for this mapping. Return only script json object which contains body and inputSrcPaths inside script attribute.'), '{\\n    \"body\": \"var notices = [];\\\\nvar Notice = Java.type(\\'net.cyoda.saas.model.Notice\\');\\\\n\\\\n// Add notices from input\\\\nfor (var i = 0; i < input.notices.length; i++) {\\\\n    var notice = new Notice();\\\\n    notice.setId(input.notices[i].id != null ? input.notices[i].id : 0);\\\\n    notice.setDate(input.notices[i].date != null ? input.notices[i].date : \\\\\"00-00-00\\\\\");\\\\n    notice.setType(input.notices[i].type != null ? input.notices[i].type : \\\\\"Unknown type\\\\\");\\\\n    notices.push(notice);\\\\n}\\\\nentity.setNotices(notices);\\\\n\",\\n    \"inputSrcPaths\": [\\n        \"notices/*/id\",\\n        \"notices/*/date\",\\n        \"notices/*/type\"\\n    ]\\n}']}\n"
     ]
    }
   ],
   "source": [
    "print(chat_history)"
   ]
  },
  {
   "cell_type": "code",
   "execution_count": 21,
   "metadata": {},
   "outputs": [],
   "source": [
    "clear_chat_history(id)"
   ]
  },
  {
   "cell_type": "code",
   "execution_count": 22,
   "metadata": {},
   "outputs": [
    {
     "name": "stdout",
     "output_type": "stream",
     "text": [
      "page_content='Instruction how to produce a mapping for a target entity.\\nEntity\\nHere is an example target entity:\\n{\\n  \"tender_entity\": {\\n    \"name\": \"string\",\\n    \"types\": [\\n      \"string\"\\n    ],\\n    \"contactUser\": \"string\",\\n    \"systemAccount\": true,\\n    \"date\": \"string\",\\n    \"deadlineDate\": \"string\",\\n    \"deadlineLengthDays\": 0,\\n    \"category\": \"string\",\\n    \"awardedValue\": 0.0,\\n    \"purchaser\": \"string\",\\n    \"notices\": [\\n      {\\n        \"name\": \"string\",\\n        \"id\": \"string\",\\n        \"sid\": \"string\",\\n        \"date\": \"string\",\\n        \"type\": \"string\",\\n        \"srcId\": \"string\",\\n        \"srcUrl\": \"string\",\\n        \"data\": \"string\"\\n      }\\n    ]\\n  }\\n}' metadata={'file_name': 'mapping_instruction_0.txt', 'file_path': 'data/config-generation/mappings/mapping_instruction_0.txt', 'file_type': '.txt', 'source': 'data/config-generation/mappings/mapping_instruction_0.txt'}\n",
      "\n",
      "page_content='Example output need to be modified for the custom input and entity:\\n```\\n{\\n    \"@bean\": \"com.cyoda.plugins.mapping.core.dtos.DataMappingConfigDto\",\\n    \"id\": \"c784c270-f0fe-11ee-9561-ee157423307a\",\\n    \"name\": \"tender\",\\n    \"lastUpdated\": 1712069164720,\\n    \"dataType\": \"JSON\",\\n    \"description\": \"\",\\n    \"entityMappings\": [\\n        {\\n            \"id\": {\\n                \"id\": \"c77e59d0-f0fe-11ee-9561-ee157423307a\"\\n            },\\n            \"name\": \"tender\",\\n            \"entityClass\": \"net.cyoda.saas.model.TenderEntity\",\\n            \"entityRelationConfigs\": [\\n                {\\n                    \"srcRelativeRootPath\": \"root:/\"\\n                }\\n            ],\\n            \"columns\": [\\n                {\\n                    \"srcColumnPath\": \"name\",\\n                    \"dstCyodaColumnPath\": \"name\",\\n                    \"dstCyodaColumnPathType\": \"java.lang.String\",\\n                    \"dstCollectionElementSetModes\": [],\\n                    \"transformer\": {' metadata={'file_name': 'mapping_instruction_0.txt', 'file_path': 'data/config-generation/mappings/mapping_instruction_0.txt', 'file_type': '.txt', 'source': 'data/config-generation/mappings/mapping_instruction_0.txt'}\n",
      "\n",
      "page_content='{\\n    \"net.cyoda.saas.model.TenderEntity\": {\\n      \"name\": \"string\",\\n      \"types\": [\\n        \"string\"\\n      ],\\n      \"contactUser\": \"string\",\\n      \"systemAccount\": true,\\n      \"date\": \"string\",\\n      \"deadlineDate\": \"string\",\\n      \"deadlineLengthDays\": 0,\\n      \"category\": \"string\",\\n      \"awardedValue\": 0.0,\\n      \"purchaser\": \"string\",\\n      \"notices\": [\\n        {\\n          \"name\": \"string\",\\n          \"id\": \"string\",\\n          \"sid\": \"string\",\\n          \"date\": \"string\",\\n          \"type\": \"string\",\\n          \"srcId\": \"string\",\\n          \"srcUrl\": \"string\",\\n          \"data\": \"string\"\\n        }\\n      ]\\n    }\\n  }' metadata={'file_name': 'tender_entity.json', 'file_path': 'data/config-generation/mappings/tender_entity.json', 'file_type': '.json', 'source': 'data/config-generation/mappings/tender_entity.json'}\n",
      "\n",
      "page_content='Let\\'s write a JavaScript Nashorn script to map the input to the tender_entity entity.\\n\\nExpected output:\\n```Javascript\\nentity.setDate(input.date);\\nentity.setDeadlineDate(input.deadlineDate);\\nentity.setDeadlineLengthDays(input.deadlineLengthDays);\\nentity.setName(input.title);\\nentity.setCategory(input.category);\\nentity.setAwardedValue(input.awardedValue);\\n\\nvar notices = [];\\nvar Notice = Java.type(\\'net.cyoda.saas.model.Notice\\');\\n\\n// Add notices from input\\nfor (var i = 0; i < input.notices.length; i++) {\\n    var notice = new Notice();\\n    notice.setId(input.notices[i].id != null ? input.notices[i].id : 0);\\n    notice.setDate(input.notices[i].date != null ? input.notices[i].date : \"00-00-00\");\\n    notice.setType(input.notices[i].type != null ? input.notices[i].type : \"Unknown type\");\\n    notices.push(notice);\\n}\\n\\nentity.setNotices(notices);\\n```\\nThere can be variations in the input and the entity. Just try to find any relations and map them with a script.' metadata={'file_name': 'scripting_instruction_0.txt', 'file_path': 'data/config-generation/mappings/scripting_instruction_0.txt', 'file_type': '.txt', 'source': 'data/config-generation/mappings/scripting_instruction_0.txt'}\n",
      "\n",
      "page_content='Example tender_entity:\\n{\\n  \"tender_entity\": {\\n    \"name\": \"string\",\\n    \"types\": [\\n      \"string\"\\n    ],\\n    \"contactUser\": \"string\",\\n    \"systemAccount\": true,\\n    \"date\": \"string\",\\n    \"deadlineDate\": \"string\",\\n    \"deadlineLengthDays\": 0,\\n    \"category\": \"string\",\\n    \"awardedValue\": 0.0,\\n    \"purchaser\": \"string\",\\n    \"notices\": [\\n      {\\n        \"name\": \"string\",\\n        \"id\": \"string\",\\n        \"sid\": \"string\",\\n        \"date\": \"string\",\\n        \"type\": \"string\",\\n        \"srcId\": \"string\",\\n        \"srcUrl\": \"string\",\\n        \"data\": \"string\"\\n      }\\n    ]\\n  }\\n}\\n\\nThen, identify all fields that are semantically similar between the input and the entity.\\nFor instance, the input and entity share common fields such as date, deadlineDate, notices, and others.\\n\\nLet\\'s write a JavaScript Nashorn script to map the input to the tender_entity entity.' metadata={'file_name': 'scripting_instruction_0.txt', 'file_path': 'data/config-generation/mappings/scripting_instruction_0.txt', 'file_type': '.txt', 'source': 'data/config-generation/mappings/scripting_instruction_0.txt'}\n",
      "\n",
      "page_content='Also, provide a unique timeuuid for DataMappingConfigDto id; give it a randomly unique name as well.\\nIf the input is JSON, dataType should also be JSON.\\n\"srcRelativeRootPath\": \"root:/\" is always like this.\\nColumns are what you will have to adjust for each input. Use columns for simple mappings and script for complex mappings.\\nThis is how you should do mappings:\\nFor example, a JSON input has a name attribute (\"name\": \"Construction of New Office Building\") and the Tender Entity has a name attribute as well.\\nFirst, let\\'s find all attribute pairs that are semantically close:\\nname - name\\ntypes - types\\nand so on.\\nSo, you need to add a column mapping for name:\\n{\\n                    \"srcColumnPath\": \"name\",\\n                    \"dstCyodaColumnPath\": \"name\",\\n                    \"dstCyodaColumnPathType\": \"java.lang.String\",\\n                    \"dstCollectionElementSetModes\": [],\\n                    \"transformer\": {\\n                        \"type\": \"COMPOSITE\",' metadata={'file_name': 'mapping_instruction_0.txt', 'file_path': 'data/config-generation/mappings/mapping_instruction_0.txt', 'file_type': '.txt', 'source': 'data/config-generation/mappings/mapping_instruction_0.txt'}\n",
      "\n",
      "page_content=\"You should adjust everything depending on the input and target entity. Use this instruction only to understand the logic of how to do it. Both the entity and input can vary each time.\\nFor example, it could be a product entity with a different schema and product input.\\nAlways ensure you understand the target entity and the data source input.\\n\\nHere are the instructions for column mappings:\\nTo generate column mappings from input to entity, first identify all semantically similar attributes between the input and the entity, which have the same hierarchy level in the JSON object and should have the same data type.\\nFor example, let's create column mappings from this input to this entity:\\n\\nColumn mappings\\nFirst let's find all attributes pairs that are semantically close\\nname - name\\ntypes - types\\ncontactUser - contact_User\\nsystemAccount - systemAcc\\nand so on.\" metadata={'file_name': 'mapping_instruction_0.txt', 'file_path': 'data/config-generation/mappings/mapping_instruction_0.txt', 'file_type': '.txt', 'source': 'data/config-generation/mappings/mapping_instruction_0.txt'}\n",
      "\n",
      "page_content='Expected column mapping:\\n```\\n{\\n                    \"srcColumnPath\": \"status\", // input attribute \\n                    \"dstCyodaColumnPath\": \"companyStatus\", // entity attribute \\n                    \"dstCyodaColumnPathType\": \"java.lang.String\", // entity datatype\\n                    \"dstCollectionElementSetModes\": [], // leave the same as here\\n                    \"transformer\": { //leave as here\\n                        \"type\": \"COMPOSITE\",\\n                        \"children\": [\\n                        ]\\n                    }\\n                }\\n```\\nYou will be provided with {input_file} and {target_entity}. You will need to produce column mappings from {input_file} to {target_entity}.' metadata={'file_name': 'column_mappings_instruction_0.txt', 'file_path': 'data/config-generation/mappings/column_mappings_instruction_0.txt', 'file_type': '.txt', 'source': 'data/config-generation/mappings/column_mappings_instruction_0.txt'}\n",
      "\n",
      "page_content='Input\\nHere is an example data source response which will be used as our input.\\n{\\n  \"name\": \"Construction of New Office Building\",\\n  \"types\": [\\n    \"Construction\",\\n    \"Development\"\\n  ],\\n  \"contactUser\": \"John Doe\",\\n  \"systemAccount\": true,\\n  \"date\": \"2024-03-28\",\\n  \"deadlineDate\": \"2024-04-30\",\\n  \"deadlineLengthDays\": 33,\\n  \"category\": \"Construction Services\",\\n  \"awardedValue\": 185000,\\n  \"purchaser\": \"ABC Corporation\",\\n  \"notices\": [\\n    {\\n      \"name\": \"Pre-Bid Conference\",\\n      \"id\": \"NW20240328002\",\\n      \"sid\": \"S003\",\\n      \"date\": \"2024-03-28\",\\n      \"type\": \"Conference\",\\n      \"srcId\": \"SRC003\",\\n      \"srcUrl\": \"https://example.com/notice/NW20240328002\",\\n      \"data\": \"Pre-bid conference scheduled on March 28th, 2024 at 2:00 PM to discuss project specifications.\"\\n    }\\n  ]\\n}' metadata={'file_name': 'mapping_instruction_0.txt', 'file_path': 'data/config-generation/mappings/mapping_instruction_0.txt', 'file_type': '.txt', 'source': 'data/config-generation/mappings/mapping_instruction_0.txt'}\n",
      "\n",
      "page_content='Example input:\\n {\\n        \"input\": {\\n            \"name\": \"Construction of New Bridge Project\",\\n            \"types\": [\\n                \"Infrastructure\",\\n                \"Construction\"\\n            ],\\n            \"contactUser\": \"John Doe\",\\n            \"systemAccount\": true,\\n            \"date\": \"2024-03-28\",\\n            \"deadlineDate\": \"2024-05-15\",\\n            \"deadlineLengthDays\": 48,\\n            \"category\": \"Public Works\",\\n            \"awardedValue\": 250000.00,\\n            \"purchaser\": \"Department of Transportation\",\\n            \"notices\": [\\n                {\\n                    \"name\": \"Notice of Award\",\\n                    \"id\": \"NW20240328001\",\\n                    \"sid\": \"S001\",\\n                    \"date\": \"2024-03-28\",\\n                    \"type\": \"Award\",\\n                    \"srcId\": \"SRC001\",\\n                    \"srcUrl\": \"https://example.com/notice/NW20240328001\",' metadata={'file_name': 'scripting_instruction_0.txt', 'file_path': 'data/config-generation/mappings/scripting_instruction_0.txt', 'file_type': '.txt', 'source': 'data/config-generation/mappings/scripting_instruction_0.txt'}\n",
      "\n"
     ]
    }
   ],
   "source": [
    "for document in ai_msg_1[\"context\"]:\n",
    "    print(document)\n",
    "    print()"
   ]
  }
 ],
 "metadata": {
  "kernelspec": {
   "display_name": "Python 3 (ipykernel)",
   "language": "python",
   "name": "python3"
  },
  "language_info": {
   "codemirror_mode": {
    "name": "ipython",
    "version": 3
   },
   "file_extension": ".py",
   "mimetype": "text/x-python",
   "name": "python",
   "nbconvert_exporter": "python",
   "pygments_lexer": "ipython3",
   "version": "3.10.4"
  }
 },
 "nbformat": 4,
 "nbformat_minor": 4
}
