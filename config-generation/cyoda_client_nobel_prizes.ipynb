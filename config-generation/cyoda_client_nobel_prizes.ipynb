{
 "cells": [
  {
   "cell_type": "markdown",
   "id": "33f2c870",
   "metadata": {},
   "source": [
    "\n",
    "Cyoda Client Demo\n",
    "\n",
    "Welcome to the Cyoda Client Demo! This notebook demonstrates how to connect and interact with the Cyoda API. Follow the steps below to get started.\n",
    "\n",
    "## Prerequisites\n",
    "\n",
    "Before running the cells, ensure you have the following:\n",
    "- Cyoda API credentials (API key, secret, etc.)\n",
    "- Necessary Python packages installed\n",
    "\n",
    "## Steps\n",
    "\n",
    "1. **Setup**: Import required libraries and set up the environment.\n",
    "2. **Authentication**: Authenticate with the Cyoda API.\n",
    "3. **Basic Operations**: Perform basic operations using the API.\n",
    "4. **Advanced Features**: Explore advanced features and functionalities.\n",
    "\n",
    "Let's get started!\n"
   ]
  },
  {
   "cell_type": "code",
   "execution_count": null,
   "metadata": {},
   "outputs": [],
   "source": [
    "%%script echo skipping\n",
    "pip install -r ../requirements.txt"
   ]
  },
  {
   "cell_type": "code",
   "execution_count": null,
   "id": "9616f8b5",
   "metadata": {},
   "outputs": [],
   "source": [
    "# Setup environment variables\n",
    "import os\n",
    "\n",
    "API_KEY = os.environ[\"CYODA_API_KEY\"]\n",
    "API_SECRET = os.environ[\"CYODA_API_SECRET\"]\n",
    "API_URL = os.environ[\"CYODA_API_URL\"]+\"/api\"\n",
    "GRPC_ADDRESS = os.environ[\"GRPC_ADDRESS\"]\n",
    "WORK_DIR = os.environ[\"WORK_DIR\"]\n",
    "TOKEN = \"\"\n",
    "print(API_URL)\n",
    "print(GRPC_ADDRESS)"
   ]
  },
  {
   "cell_type": "code",
   "execution_count": null,
   "metadata": {},
   "outputs": [],
   "source": [
    "ENTITY_CLASS_NAME = \"com.cyoda.tdb.model.treenode.TreeNodeEntity\"\n",
    "ENTITY_NAME=\"prizes\"\n",
    "MODEL_VERSION=\"1001\""
   ]
  },
  {
   "cell_type": "code",
   "execution_count": null,
   "metadata": {},
   "outputs": [],
   "source": [
    "import logging\n",
    "logger = logging.getLogger(__name__)\n",
    "logging.basicConfig(level=logging.INFO)"
   ]
  },
  {
   "cell_type": "code",
   "execution_count": null,
   "id": "64f64a66",
   "metadata": {},
   "outputs": [],
   "source": [
    "# Authenticate with the Cyoda API\n",
    "import requests\n",
    "import json\n",
    "\n",
    "api_url = API_URL + \"/auth/login\"\n",
    "headers = {\"Content-Type\": \"application/json\", \"X-Requested-With\": \"XMLHttpRequest\"}\n",
    "auth_data = {\"username\": API_KEY, \"password\": API_SECRET}\n",
    "logger.info(api_url)\n",
    "response = requests.post(api_url, headers=headers, data=json.dumps(auth_data))\n",
    "if response.status_code == 200:\n",
    "    logger.info(\"Authentication successful!\")\n",
    "    TOKEN = response.json().get(\"token\")\n",
    "else:\n",
    "    logger.info(\"Authentication failed. Please check your API credentials.\")"
   ]
  },
  {
   "cell_type": "code",
   "execution_count": null,
   "metadata": {},
   "outputs": [],
   "source": [
    "def send_get_request(path):\n",
    "    url = f\"{API_URL}/{path}\"\n",
    "\n",
    "    headers = {\"Content-Type\": \"application/json\", \"Authorization\": f\"Bearer {TOKEN}\"}\n",
    "    response = requests.get(url, headers=headers)\n",
    "    return response"
   ]
  },
  {
   "cell_type": "code",
   "execution_count": null,
   "metadata": {},
   "outputs": [],
   "source": [
    "def send_post_request(path, data):\n",
    "    url = f\"{API_URL}/{path}\"\n",
    "\n",
    "    headers = {\"Content-Type\": \"application/json\", \"Authorization\": f\"Bearer {TOKEN}\"}\n",
    "    response = requests.post(url, headers=headers, data=data)\n",
    "    return response"
   ]
  },
  {
   "cell_type": "code",
   "execution_count": null,
   "metadata": {},
   "outputs": [],
   "source": [
    "def send_put_request(path, data, timeout):\n",
    "    url = f\"{API_URL}/{path}\"\n",
    "\n",
    "    headers = {\"Content-Type\": \"application/json\", \"Authorization\": f\"Bearer {TOKEN}\"}\n",
    "    response = requests.put(url, headers=headers, data=data, timeout=timeout)\n",
    "    return response\n"
   ]
  },
  {
   "cell_type": "code",
   "execution_count": null,
   "metadata": {},
   "outputs": [],
   "source": [
    "def send_delete_request(path):\n",
    "    url = f\"{API_URL}/{path}\"\n",
    "\n",
    "    headers = {\"Content-Type\": \"application/json\", \"Authorization\": f\"Bearer {TOKEN}\"}\n",
    "    response = requests.delete(url, headers=headers)\n",
    "    return response"
   ]
  },
  {
   "cell_type": "code",
   "execution_count": null,
   "metadata": {},
   "outputs": [],
   "source": [
    "def delete_entity_data(entity_name, version):\n",
    "    path = f\"entity/TREE/{entity_name}/{version}\"\n",
    "    response = send_delete_request(path=path)\n",
    "    logger.info(response)\n",
    "    return response"
   ]
  },
  {
   "cell_type": "code",
   "execution_count": null,
   "metadata": {},
   "outputs": [],
   "source": [
    "response = delete_entity_data(ENTITY_NAME, MODEL_VERSION)\n",
    "logger.info(response)"
   ]
  },
  {
   "cell_type": "code",
   "execution_count": null,
   "metadata": {},
   "outputs": [],
   "source": [
    "def delete_entity_schema(entity_name, version):\n",
    "    path = f\"treeNode/model/{entity_name}/{version}\"\n",
    "    response = send_delete_request(path=path)\n",
    "    logger.info(response)\n",
    "    return response"
   ]
  },
  {
   "cell_type": "code",
   "execution_count": null,
   "metadata": {},
   "outputs": [],
   "source": [
    "response = delete_entity_schema(\"employee\", MODEL_VERSION)\n",
    "logger.info(response)"
   ]
  },
  {
   "cell_type": "code",
   "execution_count": null,
   "metadata": {},
   "outputs": [],
   "source": [
    "def save_entity_schema(entity_name, version, data):\n",
    "    path = f\"treeNode/model/import/JSON/SAMPLE_DATA/{entity_name}/{version}\"\n",
    "    response = send_post_request(path=path, data=data)\n",
    "    logger.info(response)\n",
    "    return response"
   ]
  },
  {
   "cell_type": "code",
   "execution_count": null,
   "metadata": {},
   "outputs": [],
   "source": [
    "def test_save_schema():\n",
    "    model = \"prizes\"\n",
    "    file_path = f\"{WORK_DIR}/config-generation/prizes_schema.json\"\n",
    "    data = ''\n",
    "    try:\n",
    "        with open(file_path, 'r') as file:\n",
    "            data = file.read()\n",
    "            print(data)\n",
    "    except Exception as e:\n",
    "        logger.error(f\"Failed to read JSON file: {e}\")\n",
    "        return\n",
    "    response = save_entity_schema(\n",
    "        entity_name=ENTITY_NAME, version=MODEL_VERSION, data=data\n",
    "    )\n",
    "    logger.info(response)\n",
    "    assert (\n",
    "        response.status_code == 200\n",
    "    ), f\"Expected 200, got {response.status_code}\"\n",
    "\n",
    "\n",
    "test_save_schema()"
   ]
  },
  {
   "cell_type": "code",
   "execution_count": null,
   "metadata": {},
   "outputs": [],
   "source": [
    "def lock_entity_schema(entity_name, version, data):\n",
    "    path = f\"treeNode/model/{entity_name}/{version}/lock\"\n",
    "    response = send_put_request(path=path, data=data, timeout=None)\n",
    "    logger.info(response)\n",
    "    return response"
   ]
  },
  {
   "cell_type": "code",
   "execution_count": null,
   "metadata": {},
   "outputs": [],
   "source": [
    "def test_lock_schema():\n",
    "    employees_response = lock_entity_schema(entity_name=ENTITY_NAME, version=MODEL_VERSION, data=None)\n",
    "    logger.info(employees_response)\n",
    "    assert (\n",
    "        employees_response.status_code == 200\n",
    "    ), f\"Expected 200, got {employees_response.status_code}\"\n",
    "\n",
    "\n",
    "test_lock_schema()"
   ]
  },
  {
   "cell_type": "code",
   "execution_count": null,
   "metadata": {},
   "outputs": [],
   "source": [
    "from typing import List\n",
    "\n",
    "def save_new_entity(entity_name, version, data):\n",
    "    path = f\"entity/new/JSON/TREE/{entity_name}/{version}\"\n",
    "    response = send_post_request(path=path, data=data)\n",
    "    # Save entities ids for later use in the tests\n",
    "    if response.status_code == 200:\n",
    "        response_json = response.json()\n",
    "        print(response_json)\n",
    "    return response"
   ]
  },
  {
   "cell_type": "code",
   "execution_count": null,
   "metadata": {},
   "outputs": [],
   "source": [
    "import uuid\n",
    "\n",
    "def test_save_new_entity():\n",
    "    file_path = f\"{WORK_DIR}/config-generation/prizes_single_entity.json\"\n",
    "    data = ''\n",
    "    try:\n",
    "        with open(file_path, 'r') as file:\n",
    "            data = file.read()\n",
    "            print(data)\n",
    "    except Exception as e:\n",
    "        logger.error(f\"Failed to read JSON file: {e}\")\n",
    "        return\n",
    "    employees_response = save_new_entity(\n",
    "        entity_name=ENTITY_NAME, version=MODEL_VERSION, data=data\n",
    "    )\n",
    "    #logger.info(employees_response.json())\n",
    "    assert (\n",
    "        employees_response.status_code == 200\n",
    "    ), f\"Expected 200, got {employees_response.status_code}\"\n",
    "\n",
    "test_save_new_entity()"
   ]
  },
  {
   "cell_type": "code",
   "execution_count": null,
   "metadata": {},
   "outputs": [],
   "source": [
    "%%script echo skipping\n",
    "def get_entity_current_state(entityId):\n",
    "    \n",
    "    path = f\"platform-api/entity-info/fetch/lazy?entityClass={ENTITY_CLASS_NAME}&entityId={entityId}&columnPath=state\"\n",
    "    response = send_get_request(path=path)\n",
    "    logger.info(response)\n",
    "    return response\n",
    "get_entity_current_state('a057d654-1e01-11b2-89dd-16bcbffd08fd')"
   ]
  },
  {
   "cell_type": "code",
   "execution_count": null,
   "metadata": {},
   "outputs": [],
   "source": [
    "def get_entities(model, version):\n",
    "    \n",
    "    path = f\"entity/TREE/{model}/{version}\"\n",
    "    response = send_get_request(path=path)\n",
    "    print(response.json())\n",
    "    return response\n",
    "get_entities(ENTITY_NAME, MODEL_VERSION)"
   ]
  },
  {
   "cell_type": "code",
   "execution_count": null,
   "metadata": {},
   "outputs": [],
   "source": [
    "def launch_transition(entityId, transitionName):\n",
    "    \n",
    "    path = f\"platform-api/entity/transition?entityId={entityId}&entityClass={ENTITY_CLASS_NAME}&transitionName={transitionName}\"\n",
    "    timeout = (30, 30)\n",
    "    response = send_put_request(path=path, data=None, timeout = timeout)\n",
    "    logger.info(response)\n",
    "    return response"
   ]
  },
  {
   "cell_type": "markdown",
   "metadata": {},
   "source": [
    "..."
   ]
  },
  {
   "cell_type": "code",
   "execution_count": null,
   "metadata": {},
   "outputs": [],
   "source": [
    "# Step 1: Install gRPC and tools\n",
    "!pip install grpcio grpcio-tools\n",
    "\n",
    "# Step 2: Compile proto files\n",
    "!python -m grpc_tools.protoc -I. --python_out=. --pyi_out=. --grpc_python_out=. cyoda-cloud-api.proto\n",
    "\n",
    "!python -m grpc_tools.protoc -I. --python_out=. --pyi_out=. --grpc_python_out=. cloudevents.proto"
   ]
  },
  {
   "cell_type": "code",
   "execution_count": null,
   "metadata": {},
   "outputs": [],
   "source": []
  },
  {
   "cell_type": "code",
   "execution_count": null,
   "metadata": {},
   "outputs": [],
   "source": [
    "\n",
    "from enum import Enum\n",
    "from typing import Any, Optional\n",
    "from pydantic import BaseModel\n",
    "\n",
    "class CloudEventType(str, Enum):\n",
    "    BASE_EVENT = \"BaseEvent\"\n",
    "    CALCULATION_MEMBER_JOIN_EVENT = \"CalculationMemberJoinEvent\"\n",
    "    CALCULATION_MEMBER_GREET_EVENT = \"CalculationMemberGreetEvent\"\n",
    "    ENTITY_PROCESSOR_CALCULATION_REQUEST = \"EntityProcessorCalculationRequest\"\n",
    "    ENTITY_PROCESSOR_CALCULATION_RESPONSE = \"EntityProcessorCalculationResponse\"\n",
    "\n",
    "class DataPayload(BaseModel):\n",
    "    type: str\n",
    "    data: Optional[Any] = None\n",
    "    \n",
    "    \n",
    "class ErrorCode(BaseModel):\n",
    "    code: str\n",
    "    message: str\n",
    "\n",
    "\n",
    "class BaseEvent(BaseModel):\n",
    "    owner: str\n",
    "    success: Optional[bool] = True\n",
    "    error: Optional[ErrorCode] = None\n",
    "    \n",
    "    \n",
    "class CalculationMemberGreetEvent(BaseEvent):\n",
    "    memberId: str\n",
    "    \n",
    "    \n",
    "class CalculationMemberJoinEvent(BaseEvent):\n",
    "    tags: Optional[List[str]] = None\n",
    "    \n",
    "    \n",
    "class EntityProcessorCalculationRequest(BaseEvent):\n",
    "    requestId: str\n",
    "    entityId: str\n",
    "    processorId: str\n",
    "    processorName: str\n",
    "    payload: DataPayload\n",
    "    \n",
    "    \n",
    "class EntityProcessorCalculationResponse(BaseEvent):\n",
    "    requestId: str\n",
    "    entityId: str\n",
    "    payload: DataPayload"
   ]
  },
  {
   "cell_type": "code",
   "execution_count": null,
   "metadata": {},
   "outputs": [],
   "source": [
    "import grpc\n",
    "import json\n",
    "import asyncio\n",
    "import cloudevents_pb2 as cloudevents_pb2\n",
    "import cloudevents_pb2_grpc as cloudevents_pb2_grpc\n",
    "import cyoda_cloud_api_pb2 as cyoda_cloud_api_pb2\n",
    "import cyoda_cloud_api_pb2_grpc as cyoda_cloud_api_pb2_grpc\n",
    "\n",
    "\n",
    "def create_cloud_event(event_id, source, event_type, data) -> cloudevents_pb2.CloudEvent:\n",
    "    return cloudevents_pb2.CloudEvent(\n",
    "        id=event_id,\n",
    "        source=source,\n",
    "        spec_version=\"1.0\",\n",
    "        type=event_type,\n",
    "        text_data=json.dumps(data)\n",
    "    )\n",
    "\n",
    "def send_notification(data) -> cloudevents_pb2.CloudEvent:\n",
    "    print(\"SENDING EVENT!\")\n",
    "    return create_cloud_event(\n",
    "        event_id=\"8f54729e-994d-4035-8bf9-e7cfe847e2cd\",\n",
    "        source=\"SimpleSample\",\n",
    "        event_type=\"EntityProcessorCalculationResponse\",\n",
    "        data={\n",
    "            \"requestId\": data['requestId'],\n",
    "            \"entityId\": data['entityId'],\n",
    "            \"owner\": \"PLAY\",\n",
    "            \"success\": True\n",
    "        }\n",
    "    )\n",
    "    \n",
    "\n",
    "async def event_producer(queue):\n",
    "    cloud_event = create_cloud_event(\n",
    "        event_id=\"9ba80b3e-e856-4bdb-984b-7523a458101b\",\n",
    "        source=\"SimpleSample\",\n",
    "        event_type=\"CalculationMemberJoinEvent\",\n",
    "        data={\"owner\": \"PLAY\", \"tags\": [\"prizes\"]}\n",
    "    )\n",
    "\n",
    "    await queue.put(cloud_event)\n",
    "    await asyncio.sleep(10)\n",
    "    test_save_new_entity()\n",
    "    await asyncio.sleep(60)\n",
    "    print(\"Closing the connection\")\n",
    "    await queue.put(None)\n",
    "    await asyncio.sleep(10)\n",
    "    raise asyncio.TimeoutError(\"Operation timed out!\")\n",
    "\n",
    "async def event_consumer(queue):\n",
    "    async with grpc.aio.secure_channel(GRPC_ADDRESS, grpc.ssl_channel_credentials()) as channel:\n",
    "        stub = cyoda_cloud_api_pb2_grpc.CloudEventsServiceStub(channel)\n",
    "\n",
    "        async def generate_events():\n",
    "            while True:\n",
    "                event = await queue.get()\n",
    "                if event is None:\n",
    "                    break\n",
    "                yield event\n",
    "                queue.task_done()\n",
    "\n",
    "        async for response in stub.startStreaming(generate_events()):\n",
    "            print(\"Received event: \", response)\n",
    "            data = json.loads(response.text_data)\n",
    "            if 'processorName' in data and data['processorName'] == 'ai_transform_entity':\n",
    "                cloud_event = send_notification(data)\n",
    "                await queue.put(cloud_event)\n",
    "\n",
    "async def main():\n",
    "    queue = asyncio.Queue()\n",
    "    producer = event_producer(queue)\n",
    "    consumer = event_consumer(queue)\n",
    "\n",
    "    await asyncio.gather(producer, consumer)\n",
    "\n",
    "\n",
    "await main()"
   ]
  }
 ],
 "metadata": {
  "kernelspec": {
   "display_name": "Python 3 (ipykernel)",
   "language": "python",
   "name": "python3"
  },
  "language_info": {
   "codemirror_mode": {
    "name": "ipython",
    "version": 3
   },
   "file_extension": ".py",
   "mimetype": "text/x-python",
   "name": "python",
   "nbconvert_exporter": "python",
   "pygments_lexer": "ipython3",
   "version": "3.10.13"
  }
 },
 "nbformat": 4,
 "nbformat_minor": 4
}
