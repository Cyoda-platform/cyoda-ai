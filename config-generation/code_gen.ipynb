{
 "cells": [
  {
   "cell_type": "markdown",
   "metadata": {},
   "source": [
    "# AI Cyoda configurations Q&A with RAG Langchain\n",
    "\n",
    "Welcome to this Jupyter notebook! This notebook serves as your guide to developing an AI-powered Question & Answer system using the Langchain library. This system utilizes the Retrieval-Augmented Generation (RAG) model that leverages OpenAI's GPT-3 model to provide intelligent and context-aware responses.\n",
    "\n",
    "The primary purpose of this notebook is to generate Cyoda related code. It does so by interacting with the data set available in the official Cyoda repository. \n",
    "\n",
    "## What will we cover?\n",
    "\n",
    "In this notebook, we will go through the following steps:\n",
    "\n",
    "1. **Setting up the environment**: We will install necessary libraries and load environment variables.\n",
    "\n",
    "2. **Initializing the AI model**: We will initialize the ChatOpenAI model with the appropriate parameters.\n",
    "\n",
    "3. **Loading instructions and entities**: We will load instructions and entities from the official repository using the GitLoader.\n",
    "\n",
    "4. **Splitting documents and creating a vectorstore**: We will split the loaded documents into chunks and create a vectorstore using the Chroma library.\n",
    "\n",
    "5. **Defining prompts for contextualizing and answering questions**: We will define prompts that the AI model will use to contextualize and answer questions.\n",
    "\n",
    "6. **Creating a retrieval chain**: We will create a retrieval chain that combines the history-aware retriever and the question-answer chain.\n",
    "\n",
    "7. **Running the chatbot**: Finally, we will run the chatbot and see it in action!\n",
    "\n",
    "## Let's get started!\n",
    "\n",
    "Please follow along with the code cells and comments to understand each step of the process. If you have any questions or run into any issues, feel free to ask for help. Happy coding!"
   ]
  },
  {
   "cell_type": "markdown",
   "metadata": {},
   "source": [
    "Install requirements"
   ]
  },
  {
   "cell_type": "code",
   "execution_count": null,
   "metadata": {},
   "outputs": [],
   "source": [
    "pip install -r ../requirements.txt"
   ]
  },
  {
   "cell_type": "markdown",
   "metadata": {},
   "source": [
    "### Load environment variables"
   ]
  },
  {
   "cell_type": "code",
   "execution_count": 20,
   "metadata": {},
   "outputs": [],
   "source": [
    "from dotenv import load_dotenv\n",
    "import os\n",
    "\n",
    "load_dotenv()\n",
    "OPENAI_API_KEY = os.environ[\"OPENAI_API_KEY\"]\n",
    "WORK_DIR = os.environ[\"WORK_DIR\"]"
   ]
  },
  {
   "cell_type": "code",
   "execution_count": null,
   "metadata": {},
   "outputs": [],
   "source": [
    "##for google colab (optional)\n",
    "# This cell is optional and can be skipped\n",
    "# from google.colab import userdata\n",
    "# API_KEY = userdata.get('OPENAI_API_KEY')"
   ]
  },
  {
   "cell_type": "markdown",
   "metadata": {},
   "source": [
    "### Handle unsupported version of sqlite3 (optional)"
   ]
  },
  {
   "cell_type": "code",
   "execution_count": null,
   "metadata": {},
   "outputs": [],
   "source": [
    "pip install pysqlite3-binary"
   ]
  },
  {
   "cell_type": "code",
   "execution_count": null,
   "metadata": {},
   "outputs": [],
   "source": [
    "import sys\n",
    "\n",
    "__import__(\"pysqlite3\")\n",
    "sys.modules[\"sqlite3\"] = sys.modules[\"pysqlite3\"]"
   ]
  },
  {
   "cell_type": "markdown",
   "metadata": {},
   "source": [
    "### Initialize ChatOpenAI"
   ]
  },
  {
   "cell_type": "code",
   "execution_count": 21,
   "metadata": {},
   "outputs": [],
   "source": [
    "from langchain_text_splitters import RecursiveCharacterTextSplitter\n",
    "from langchain_openai import ChatOpenAI, OpenAIEmbeddings\n",
    "from langchain_community.document_loaders import GitLoader\n",
    "from langchain_community.vectorstores import Chroma\n",
    "from langchain_core.prompts import ChatPromptTemplate, MessagesPlaceholder\n",
    "from langchain.chains import create_history_aware_retriever, create_retrieval_chain\n",
    "from langchain.chains.combine_documents import create_stuff_documents_chain\n",
    "from langchain.schema import HumanMessage"
   ]
  },
  {
   "cell_type": "code",
   "execution_count": 22,
   "metadata": {},
   "outputs": [],
   "source": [
    "llm = ChatOpenAI(\n",
    "    temperature=0.7,\n",
    "    max_tokens=6000,\n",
    "    model=\"gpt-3.5-turbo-16k\",\n",
    "    openai_api_key=OPENAI_API_KEY,\n",
    ")"
   ]
  },
  {
   "cell_type": "markdown",
   "metadata": {},
   "source": [
    "### Load instructions and entities from the official cyoda repository"
   ]
  },
  {
   "cell_type": "code",
   "execution_count": 23,
   "metadata": {},
   "outputs": [
    {
     "name": "stdout",
     "output_type": "stream",
     "text": [
      "Number of documents loaded: 11\n"
     ]
    }
   ],
   "source": [
    "loader = GitLoader(\n",
    "    clone_url=\"https://github.com/Cyoda-platform/cyoda-ai\",\n",
    "    repo_path=WORK_DIR,\n",
    "    branch=\"cyoda-ai-configurations-3.0.x\",\n",
    "    file_filter=lambda file_path: file_path.startswith(f\"{WORK_DIR}/data/code/\"),\n",
    ")\n",
    "docs = loader.load()\n",
    "print(f\"Number of documents loaded: {len(docs)}\")"
   ]
  },
  {
   "cell_type": "markdown",
   "metadata": {},
   "source": [
    "### Split documents and create vectorstore"
   ]
  },
  {
   "cell_type": "code",
   "execution_count": 24,
   "metadata": {},
   "outputs": [],
   "source": [
    "text_splitter = RecursiveCharacterTextSplitter(chunk_size=1000, chunk_overlap=200)\n",
    "splits = text_splitter.split_documents(docs)\n",
    "vectorstore = Chroma.from_documents(documents=splits, embedding=OpenAIEmbeddings())\n",
    "retriever = vectorstore.as_retriever(search_kwargs={\"k\": 10})"
   ]
  },
  {
   "cell_type": "code",
   "execution_count": 25,
   "metadata": {},
   "outputs": [
    {
     "name": "stdout",
     "output_type": "stream",
     "text": [
      "40\n"
     ]
    }
   ],
   "source": [
    "count = vectorstore._collection.count()\n",
    "print(count)"
   ]
  },
  {
   "cell_type": "markdown",
   "metadata": {},
   "source": [
    "### Define prompts for contextualizing question and answering question"
   ]
  },
  {
   "cell_type": "code",
   "execution_count": 26,
   "metadata": {},
   "outputs": [],
   "source": [
    "contextualize_q_system_prompt = \"\"\"Given a chat history and the latest user question \\\n",
    "which might reference context in the chat history, formulate a standalone question \\\n",
    "which can be understood without the chat history. Do NOT answer the question, \\\n",
    "just reformulate it if needed and otherwise return it as is.\"\"\"\n",
    "contextualize_q_prompt = ChatPromptTemplate.from_messages(\n",
    "    [\n",
    "        (\"system\", contextualize_q_system_prompt),\n",
    "        MessagesPlaceholder(\"chat_history\"),\n",
    "        (\"human\", \"{input}\"),\n",
    "    ]\n",
    ")"
   ]
  },
  {
   "cell_type": "code",
   "execution_count": 27,
   "metadata": {},
   "outputs": [],
   "source": [
    "history_aware_retriever = create_history_aware_retriever(\n",
    "    llm, retriever, contextualize_q_prompt\n",
    ")"
   ]
  },
  {
   "cell_type": "markdown",
   "metadata": {},
   "source": [
    "### Answer question"
   ]
  },
  {
   "cell_type": "code",
   "execution_count": 28,
   "metadata": {},
   "outputs": [],
   "source": [
    "qa_system_prompt = \"\"\"You are a code assistant. You are aware of grpc client CyodaCalculationMemberClient. \\\n",
    "CalculationMemberGreetEvent.json, CalculationMemberJoinEvent.json, CloudEventType.json, EntityProcessorCalculationRequest.json, EntityProcessorCalculationResponse.json are used for schema generation. \\\n",
    "Also use available proto files.You should write code in different languages to produce similar grpc clients.. \\\n",
    "You should do your best to answer the question. \\\n",
    "Use the following pieces of retrieved context to answer the question. \\\n",
    "\n",
    "{context}\"\"\"\n",
    "qa_prompt = ChatPromptTemplate.from_messages(\n",
    "    [\n",
    "        (\"system\", qa_system_prompt),\n",
    "        MessagesPlaceholder(\"chat_history\"),\n",
    "        (\"human\", \"{input}\"),\n",
    "    ]\n",
    ")\n",
    "question_answer_chain = create_stuff_documents_chain(llm, qa_prompt)"
   ]
  },
  {
   "cell_type": "markdown",
   "metadata": {},
   "source": [
    "### Create retrieval chain"
   ]
  },
  {
   "cell_type": "code",
   "execution_count": 29,
   "metadata": {},
   "outputs": [],
   "source": [
    "rag_chain = create_retrieval_chain(history_aware_retriever, question_answer_chain)"
   ]
  },
  {
   "cell_type": "markdown",
   "metadata": {},
   "source": [
    "### Initialize chat history and relevant functions"
   ]
  },
  {
   "cell_type": "code",
   "execution_count": 30,
   "metadata": {},
   "outputs": [],
   "source": [
    "chat_history = {}"
   ]
  },
  {
   "cell_type": "code",
   "execution_count": 31,
   "metadata": {},
   "outputs": [],
   "source": [
    "# Function to add a message to the chat history\n",
    "def add_to_chat_history(id, question, message):\n",
    "    if id in chat_history:\n",
    "        chat_history[id].extend([HumanMessage(content=question), message])\n",
    "    else:\n",
    "        chat_history[id] = [HumanMessage(content=question), message]"
   ]
  },
  {
   "cell_type": "code",
   "execution_count": 32,
   "metadata": {},
   "outputs": [],
   "source": [
    "# Function to clear chat history\n",
    "def clear_chat_history(id):\n",
    "    if id in chat_history:\n",
    "        del chat_history[id]"
   ]
  },
  {
   "cell_type": "code",
   "execution_count": 33,
   "metadata": {},
   "outputs": [],
   "source": [
    "def ask_question(id, question):\n",
    "    ai_msg = rag_chain.invoke(\n",
    "        {\"input\": question, \"chat_history\": chat_history.get(id, [])}\n",
    "    )\n",
    "    add_to_chat_history(id, question, ai_msg[\"answer\"])\n",
    "    return ai_msg[\"answer\"]"
   ]
  },
  {
   "cell_type": "markdown",
   "metadata": {},
   "source": [
    "### Start a chat session"
   ]
  },
  {
   "cell_type": "code",
   "execution_count": 34,
   "metadata": {},
   "outputs": [],
   "source": [
    "import uuid\n",
    "\n",
    "# Generate a unique ID for the chat session\n",
    "id = uuid.uuid1()"
   ]
  },
  {
   "cell_type": "code",
   "execution_count": 39,
   "metadata": {},
   "outputs": [
    {
     "name": "stdout",
     "output_type": "stream",
     "text": [
      "```java\n",
      "import com.fasterxml.jackson.databind.ObjectMapper;\n",
      "import io.cloudevents.core.builder.CloudEventBuilder;\n",
      "import io.cloudevents.core.data.PojoCloudEventData;\n",
      "import io.cloudevents.core.format.EventFormat;\n",
      "import io.cloudevents.core.provider.EventFormatProvider;\n",
      "import io.cloudevents.protobuf.ProtobufFormat;\n",
      "import io.cloudevents.v1.proto.CloudEvent;\n",
      "import io.grpc.ManagedChannel;\n",
      "import io.grpc.ManagedChannelBuilder;\n",
      "import io.grpc.stub.StreamObserver;\n",
      "import org.cyoda.cloud.api.event.common.BaseEvent;\n",
      "import org.cyoda.cloud.api.event.common.CloudEventType;\n",
      "import org.cyoda.cloud.api.event.processing.CalculationMemberJoinEvent;\n",
      "import org.cyoda.cloud.api.event.processing.EntityProcessorCalculationRequest;\n",
      "import org.cyoda.cloud.api.event.processing.EntityProcessorCalculationResponse;\n",
      "\n",
      "import java.util.UUID;\n",
      "import java.util.concurrent.TimeUnit;\n",
      "\n",
      "public class CyodaCalculationMemberClient implements AutoCloseable {\n",
      "\n",
      "    private final ManagedChannel managedChannel;\n",
      "    private final CloudEventsServiceGrpc.CloudEventsServiceStub clientStub;\n",
      "    private final EventFormat eventFormat;\n",
      "    private final ObjectMapper objectMapper;\n",
      "\n",
      "    public CyodaCalculationMemberClient(ObjectMapper objectMapper) {\n",
      "        this.objectMapper = objectMapper;\n",
      "        managedChannel = ManagedChannelBuilder.forAddress(\"localhost\", 8080)\n",
      "                .usePlaintext()\n",
      "                .build();\n",
      "        clientStub = CloudEventsServiceGrpc.newStub(managedChannel);\n",
      "        eventFormat = EventFormatProvider.getInstance().resolveFormat(ProtobufFormat.PROTO_CONTENT_TYPE);\n",
      "        if (eventFormat == null) {\n",
      "            throw new NullPointerException(\"Unable to resolve protobuf event format\");\n",
      "        }\n",
      "    }\n",
      "\n",
      "    public void sendEvent(EntityProcessorCalculationRequest request) {\n",
      "        CloudEvent cloudEvent = CloudEventBuilder.v1()\n",
      "                .withId(UUID.randomUUID().toString())\n",
      "                .withType(CloudEventType.CALCULATION_REQUEST.toString())\n",
      "                .withDataContentType(\"application/json\")\n",
      "                .withData(PojoCloudEventData.wrap(request))\n",
      "                .build();\n",
      "\n",
      "        StreamObserver<CloudEvent> observer = clientStub.sendEvent(new StreamObserver<>() {\n",
      "            @Override\n",
      "            public void onNext(CloudEvent value) {\n",
      "                // Handle response from server\n",
      "                try {\n",
      "                    EntityProcessorCalculationResponse response = objectMapper.readValue(value.getData().toByteArray(), EntityProcessorCalculationResponse.class);\n",
      "                    System.out.println(response);\n",
      "                } catch (Exception e) {\n",
      "                    e.printStackTrace();\n",
      "                }\n",
      "            }\n",
      "\n",
      "            @Override\n",
      "            public void onError(Throwable t) {\n",
      "                // Handle error from server\n",
      "                System.out.println(\"Error: \" + t.getMessage());\n",
      "            }\n",
      "\n",
      "            @Override\n",
      "            public void onCompleted() {\n",
      "                // Handle completion from server\n",
      "                System.out.println(\"Completed\");\n",
      "            }\n",
      "        });\n",
      "\n",
      "        observer.onNext(cloudEvent);\n",
      "        observer.onCompleted();\n",
      "    }\n",
      "\n",
      "    @Override\n",
      "    public void close() {\n",
      "        managedChannel.shutdown().awaitTermination(10, TimeUnit.SECONDS);\n",
      "    }\n",
      "}\n",
      "```\n",
      "\n",
      "You can use the `CyodaCalculationMemberClient` class to send events by calling the `sendEvent` method and passing an `EntityProcessorCalculationRequest` object as the parameter. The response from the server will be printed to the console. Remember to close the client by calling the `close` method when you're done using it.\n"
     ]
    }
   ],
   "source": [
    "##Rewrite CyodaCalculationMemberClient to java. Produce ready to use code. Leave spring boot\n",
    "question = \"Rewrite CyodaCalculationMemberClient to java. Produce ready to use code. Leave Spring Boot related syntax.\"\n",
    "result = ask_question(id, question)\n",
    "print(result)"
   ]
  },
  {
   "cell_type": "code",
   "execution_count": 40,
   "metadata": {},
   "outputs": [
    {
     "name": "stdout",
     "output_type": "stream",
     "text": [
      "{UUID('082365a0-fbfb-11ee-ac34-f01898ec22af'): [HumanMessage(content='Rewrite CyodaCalculationMemberClient to java. Produce ready to use code. Leave spring boot features.'), '```java\\nimport com.fasterxml.jackson.databind.ObjectMapper;\\nimport io.cloudevents.core.builder.CloudEventBuilder;\\nimport io.cloudevents.core.data.PojoCloudEventData;\\nimport io.cloudevents.core.format.EventFormat;\\nimport io.cloudevents.core.provider.EventFormatProvider;\\nimport io.cloudevents.protobuf.ProtobufFormat;\\nimport io.cloudevents.v1.proto.CloudEvent;\\nimport io.grpc.ManagedChannel;\\nimport io.grpc.ManagedChannelBuilder;\\nimport io.grpc.stub.StreamObserver;\\nimport org.cyoda.cloud.api.event.common.BaseEvent;\\nimport org.cyoda.cloud.api.event.common.CloudEventType;\\nimport org.cyoda.cloud.api.event.common.DataPayload;\\nimport org.cyoda.cloud.api.event.processing.CalculationMemberJoinEvent;\\nimport org.cyoda.cloud.api.event.processing.EntityProcessorCalculationRequest;\\nimport org.cyoda.cloud.api.event.processing.EntityProcessorCalculationResponse;\\nimport org.cyoda.cloud.api.grpc.CloudEventsServiceGrpc;\\nimport org.springframework.beans.factory.DisposableBean;\\n\\nimport java.io.IOException;\\nimport java.util.concurrent.TimeUnit;\\n\\npublic class CyodaCalculationMemberClient implements DisposableBean {\\n\\n    private ManagedChannel managedChannel;\\n    private CloudEventsServiceGrpc.CloudEventsServiceStub clientStub;\\n    private StreamObserver<CloudEvent> streamingObserver;\\n    private EventFormat eventFormat;\\n    private ObjectMapper objectMapper;\\n\\n    public CyodaCalculationMemberClient(ObjectMapper objectMapper) {\\n        this.objectMapper = objectMapper;\\n    }\\n\\n    public void initialize() {\\n        managedChannel = ManagedChannelBuilder.forAddress(\"localhost\", 8080)\\n                .usePlaintext()\\n                .build();\\n        clientStub = CloudEventsServiceGrpc.newStub(managedChannel);\\n        eventFormat = EventFormatProvider.getInstance().resolveFormat(ProtobufFormat.PROTO_CONTENT_TYPE);\\n        if (eventFormat == null) {\\n            throw new NullPointerException(\"Unable to resolve protobuf event format\");\\n        }\\n    }\\n\\n    public void sendEvent(EntityProcessorCalculationRequest request) {\\n        CloudEvent cloudEvent = CloudEventBuilder.v1()\\n                .withId(UUID.randomUUID().toString())\\n                .withType(CloudEventType.CALCULATION_REQUEST.toString())\\n                .withDataContentType(\"application/json\")\\n                .withData(PojoCloudEventData.wrap(request))\\n                .build();\\n\\n        CloudEventsServiceGrpc.CloudEventsServiceStub stub = CloudEventsServiceGrpc.newStub(managedChannel);\\n\\n        StreamObserver<CloudEvent> observer = stub.sendEvent(new StreamObserver<>() {\\n            @Override\\n            public void onNext(CloudEvent value) {\\n                // Handle response from server\\n                try {\\n                    EntityProcessorCalculationResponse response = objectMapper.readValue(value.getData().toBytes(), EntityProcessorCalculationResponse.class);\\n                    System.out.println(response);\\n                } catch (IOException e) {\\n                    e.printStackTrace();\\n                }\\n            }\\n\\n            @Override\\n            public void onError(Throwable t) {\\n                // Handle error from server\\n                System.out.println(\"Error: \" + t.getMessage());\\n            }\\n\\n            @Override\\n            public void onCompleted() {\\n                // Handle completion from server\\n                System.out.println(\"Completed\");\\n            }\\n        });\\n\\n        observer.onNext(cloudEvent);\\n        observer.onCompleted();\\n    }\\n\\n    @Override\\n    public void destroy() throws Exception {\\n        streamingObserver.onCompleted();\\n        managedChannel.shutdown().awaitTermination(10, TimeUnit.SECONDS);\\n    }\\n}\\n```\\n\\nYou can use the `CyodaCalculationMemberClient` class to send events by calling the `sendEvent` method and passing an `EntityProcessorCalculationRequest` object as the parameter. The response from the server will be printed to the console. Remember to initialize the client by calling the `initialize` method before sending any events.', HumanMessage(content='Rewrite CyodaCalculationMemberClient to java. Produce ready to use code. Leave Spring Boot related syntax.'), '```java\\nimport com.fasterxml.jackson.databind.ObjectMapper;\\nimport io.cloudevents.core.builder.CloudEventBuilder;\\nimport io.cloudevents.core.data.PojoCloudEventData;\\nimport io.cloudevents.core.format.EventFormat;\\nimport io.cloudevents.core.provider.EventFormatProvider;\\nimport io.cloudevents.protobuf.ProtobufFormat;\\nimport io.cloudevents.v1.proto.CloudEvent;\\nimport io.grpc.ManagedChannel;\\nimport io.grpc.ManagedChannelBuilder;\\nimport io.grpc.stub.StreamObserver;\\nimport org.cyoda.cloud.api.event.common.BaseEvent;\\nimport org.cyoda.cloud.api.event.common.CloudEventType;\\nimport org.cyoda.cloud.api.event.processing.CalculationMemberJoinEvent;\\nimport org.cyoda.cloud.api.event.processing.EntityProcessorCalculationRequest;\\nimport org.cyoda.cloud.api.event.processing.EntityProcessorCalculationResponse;\\n\\nimport java.util.UUID;\\nimport java.util.concurrent.TimeUnit;\\n\\npublic class CyodaCalculationMemberClient implements AutoCloseable {\\n\\n    private final ManagedChannel managedChannel;\\n    private final CloudEventsServiceGrpc.CloudEventsServiceStub clientStub;\\n    private final EventFormat eventFormat;\\n    private final ObjectMapper objectMapper;\\n\\n    public CyodaCalculationMemberClient(ObjectMapper objectMapper) {\\n        this.objectMapper = objectMapper;\\n        managedChannel = ManagedChannelBuilder.forAddress(\"localhost\", 8080)\\n                .usePlaintext()\\n                .build();\\n        clientStub = CloudEventsServiceGrpc.newStub(managedChannel);\\n        eventFormat = EventFormatProvider.getInstance().resolveFormat(ProtobufFormat.PROTO_CONTENT_TYPE);\\n        if (eventFormat == null) {\\n            throw new NullPointerException(\"Unable to resolve protobuf event format\");\\n        }\\n    }\\n\\n    public void sendEvent(EntityProcessorCalculationRequest request) {\\n        CloudEvent cloudEvent = CloudEventBuilder.v1()\\n                .withId(UUID.randomUUID().toString())\\n                .withType(CloudEventType.CALCULATION_REQUEST.toString())\\n                .withDataContentType(\"application/json\")\\n                .withData(PojoCloudEventData.wrap(request))\\n                .build();\\n\\n        StreamObserver<CloudEvent> observer = clientStub.sendEvent(new StreamObserver<>() {\\n            @Override\\n            public void onNext(CloudEvent value) {\\n                // Handle response from server\\n                try {\\n                    EntityProcessorCalculationResponse response = objectMapper.readValue(value.getData().toByteArray(), EntityProcessorCalculationResponse.class);\\n                    System.out.println(response);\\n                } catch (Exception e) {\\n                    e.printStackTrace();\\n                }\\n            }\\n\\n            @Override\\n            public void onError(Throwable t) {\\n                // Handle error from server\\n                System.out.println(\"Error: \" + t.getMessage());\\n            }\\n\\n            @Override\\n            public void onCompleted() {\\n                // Handle completion from server\\n                System.out.println(\"Completed\");\\n            }\\n        });\\n\\n        observer.onNext(cloudEvent);\\n        observer.onCompleted();\\n    }\\n\\n    @Override\\n    public void close() {\\n        managedChannel.shutdown().awaitTermination(10, TimeUnit.SECONDS);\\n    }\\n}\\n```\\n\\nYou can use the `CyodaCalculationMemberClient` class to send events by calling the `sendEvent` method and passing an `EntityProcessorCalculationRequest` object as the parameter. The response from the server will be printed to the console. Remember to close the client by calling the `close` method when you\\'re done using it.']}\n"
     ]
    }
   ],
   "source": [
    "print(chat_history)"
   ]
  },
  {
   "cell_type": "code",
   "execution_count": 41,
   "metadata": {},
   "outputs": [],
   "source": [
    "#clear chat history if necessary\n",
    "clear_chat_history(id)"
   ]
  }
 ],
 "metadata": {
  "kernelspec": {
   "display_name": "Python 3 (ipykernel)",
   "language": "python",
   "name": "python3"
  },
  "language_info": {
   "codemirror_mode": {
    "name": "ipython",
    "version": 3
   },
   "file_extension": ".py",
   "mimetype": "text/x-python",
   "name": "python",
   "nbconvert_exporter": "python",
   "pygments_lexer": "ipython3",
   "version": "3.10.4"
  }
 },
 "nbformat": 4,
 "nbformat_minor": 4
}
