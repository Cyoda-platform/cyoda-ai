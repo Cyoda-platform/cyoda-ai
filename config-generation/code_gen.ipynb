{
 "cells": [
  {
   "cell_type": "markdown",
   "metadata": {},
   "source": [
    "# AI Cyoda configurations Q&A with RAG Langchain\n",
    "\n",
    "Welcome to this Jupyter notebook! This notebook serves as your guide to developing an AI-powered Question & Answer system using the Langchain library. This system utilizes the Retrieval-Augmented Generation (RAG) model that leverages OpenAI's GPT-3 model to provide intelligent and context-aware responses.\n",
    "\n",
    "The primary purpose of this notebook is to generate Cyoda related code. It does so by interacting with the data set available in the official Cyoda repository. \n",
    "\n",
    "## What will we cover?\n",
    "\n",
    "In this notebook, we will go through the following steps:\n",
    "\n",
    "1. **Setting up the environment**: We will install necessary libraries and load environment variables.\n",
    "\n",
    "2. **Initializing the AI model**: We will initialize the ChatOpenAI model with the appropriate parameters.\n",
    "\n",
    "3. **Loading instructions and entities**: We will load instructions and entities from the official repository using the GitLoader.\n",
    "\n",
    "4. **Splitting documents and creating a vectorstore**: We will split the loaded documents into chunks and create a vectorstore using the Chroma library.\n",
    "\n",
    "5. **Defining prompts for contextualizing and answering questions**: We will define prompts that the AI model will use to contextualize and answer questions.\n",
    "\n",
    "6. **Creating a retrieval chain**: We will create a retrieval chain that combines the history-aware retriever and the question-answer chain.\n",
    "\n",
    "7. **Running the chatbot**: Finally, we will run the chatbot and see it in action!\n",
    "\n",
    "## Let's get started!\n",
    "\n",
    "Please follow along with the code cells and comments to understand each step of the process. If you have any questions or run into any issues, feel free to ask for help. Happy coding!"
   ]
  },
  {
   "cell_type": "markdown",
   "metadata": {},
   "source": [
    "Install requirements"
   ]
  },
  {
   "cell_type": "code",
   "execution_count": 1,
   "metadata": {},
   "outputs": [
    {
     "name": "stdout",
     "output_type": "stream",
     "text": [
      "skipping\n"
     ]
    }
   ],
   "source": [
    "%%script echo skipping\n",
    "pip install -r ../requirements.txt"
   ]
  },
  {
   "cell_type": "markdown",
   "metadata": {},
   "source": [
    "### Load environment variables"
   ]
  },
  {
   "cell_type": "code",
   "execution_count": 2,
   "metadata": {},
   "outputs": [],
   "source": [
    "from dotenv import load_dotenv\n",
    "import os\n",
    "\n",
    "load_dotenv()\n",
    "OPENAI_API_KEY = os.environ[\"OPENAI_API_KEY\"]\n",
    "WORK_DIR = os.environ[\"WORK_DIR\"]"
   ]
  },
  {
   "cell_type": "code",
   "execution_count": 3,
   "metadata": {},
   "outputs": [
    {
     "name": "stdout",
     "output_type": "stream",
     "text": [
      "skipping\n"
     ]
    }
   ],
   "source": [
    "%%script echo skipping\n",
    "##for google colab (optional)\n",
    "# This cell is optional and can be skipped\n",
    "from google.colab import userdata\n",
    "API_KEY = userdata.get('OPENAI_API_KEY')\n",
    "WORK_DIR = userdata.get('WORK_DIR')"
   ]
  },
  {
   "cell_type": "markdown",
   "metadata": {},
   "source": [
    "### Handle unsupported version of sqlite3 (optional)"
   ]
  },
  {
   "cell_type": "code",
   "execution_count": 4,
   "metadata": {},
   "outputs": [
    {
     "name": "stdout",
     "output_type": "stream",
     "text": [
      "skipping\n"
     ]
    }
   ],
   "source": [
    "%%script echo skipping\n",
    "pip install pysqlite3-binary"
   ]
  },
  {
   "cell_type": "code",
   "execution_count": 5,
   "metadata": {},
   "outputs": [
    {
     "name": "stdout",
     "output_type": "stream",
     "text": [
      "skipping\n"
     ]
    }
   ],
   "source": [
    "%%script echo skipping\n",
    "import sys\n",
    "\n",
    "__import__(\"pysqlite3\")\n",
    "sys.modules[\"sqlite3\"] = sys.modules[\"pysqlite3\"]"
   ]
  },
  {
   "cell_type": "markdown",
   "metadata": {},
   "source": [
    "### Initialize ChatOpenAI"
   ]
  },
  {
   "cell_type": "code",
   "execution_count": null,
   "metadata": {},
   "outputs": [],
   "source": [
    "from langchain_text_splitters import RecursiveCharacterTextSplitter\n",
    "from langchain_openai import ChatOpenAI, OpenAIEmbeddings\n",
    "from langchain_community.document_loaders import GitLoader\n",
    "from langchain_community.vectorstores import Chroma\n",
    "from langchain_core.prompts import ChatPromptTemplate, MessagesPlaceholder\n",
    "from langchain.chains import create_history_aware_retriever, create_retrieval_chain\n",
    "from langchain.chains.combine_documents import create_stuff_documents_chain\n",
    "from langchain.schema import HumanMessage"
   ]
  },
  {
   "cell_type": "code",
   "execution_count": 7,
   "metadata": {},
   "outputs": [],
   "source": [
    "llm = ChatOpenAI(\n",
    "    temperature=0.7,\n",
    "    max_tokens=8000,\n",
    "    model=\"gpt-3.5-turbo-16k\",\n",
    "    openai_api_key=OPENAI_API_KEY,\n",
    ")"
   ]
  },
  {
   "cell_type": "markdown",
   "metadata": {},
   "source": [
    "### Load instructions and entities from the official cyoda repository"
   ]
  },
  {
   "cell_type": "code",
   "execution_count": null,
   "metadata": {},
   "outputs": [],
   "source": [
    "loader = GitLoader(\n",
    "    repo_path=WORK_DIR,\n",
    "    branch=\"cyoda-ai-configurations-3.0.x\",\n",
    "    file_filter=lambda file_path: file_path.startswith(f\"{WORK_DIR}/data/code/\"),\n",
    ")\n",
    "docs = loader.load()\n",
    "print(f\"Number of documents loaded: {len(docs)}\")"
   ]
  },
  {
   "cell_type": "markdown",
   "metadata": {},
   "source": [
    "### Split documents and create vectorstore"
   ]
  },
  {
   "cell_type": "code",
   "execution_count": 9,
   "metadata": {},
   "outputs": [],
   "source": [
    "text_splitter = RecursiveCharacterTextSplitter(chunk_size=1000, chunk_overlap=200)\n",
    "splits = text_splitter.split_documents(docs)\n",
    "vectorstore = Chroma.from_documents(documents=splits, embedding=OpenAIEmbeddings())\n",
    "retriever = vectorstore.as_retriever(search_kwargs={\"k\": 10})"
   ]
  },
  {
   "cell_type": "code",
   "execution_count": 10,
   "metadata": {},
   "outputs": [
    {
     "name": "stdout",
     "output_type": "stream",
     "text": [
      "22\n"
     ]
    }
   ],
   "source": [
    "count = vectorstore._collection.count()\n",
    "print(count)"
   ]
  },
  {
   "cell_type": "code",
   "execution_count": 11,
   "metadata": {},
   "outputs": [
    {
     "name": "stdout",
     "output_type": "stream",
     "text": [
      "[Document(page_content='FOREIGN TRAVEL FOR LEEDS CITY COUNCIL (April 18 to March 19)     ALL COSTS IN GBP\\t\\t\\t\\t\\t\\t\\t\\t\\t\\t\\t\\t\\t\\t\\t\\t\\t\\t\\t\\r\\nNAME OF PERSON TRAVELING\\tJOB TITLE\\tCITY\\tCOUNTRY\\tDEPARTURE DATE\\tRETURN DATE\\tTOTAL NUMBER OF DAYS AND NIGHTS\\tREASON FOR VISIT \\tCLASS OF FLIGHT i.e business\\tTRAVEL COSTS                                                                                                                      \\t\\tCOST OF ACCOMMODATION \\t\\tEXPENSES - LOCAL TRANSPORT \\t\\tEXPENSES - FOOD & DRINK\\t\\tTOTAL COST OF VISIT\\tTOTAL COSTS TO LCC\\tTOTAL COSTS TO OTHER ORGANISATIONS (IF KNOWN )\\r\\n\\t\\t\\t\\t\\t\\t\\t\\t\\tTo LCC\\tTo other\\tTo LCC\\tTo other\\tTo LCC\\tTo other\\tTo LCC\\tTo other\\t\\t\\t\\r\\nCllr Adam Ogilvie\\tCouncillor\\tBerlin\\tGermany\\t02.04.18\\t04.04.18\\t2 nights/3 days\\tTo host a reception promoting VisitLeeds & Leeds2023\\teconomy\\t205.28\\t0\\t159.77\\t0\\t0\\t0\\t22.64\\t0\\t387.69\\t387.69\\t0', metadata={'file_name': '2018-2019-international-travel-expenses-csv-1.txt', 'file_path': 'data/code/dataset/accounting/2018-2019-international-travel-expenses-csv-1.txt', 'file_type': '.txt', 'source': 'data/code/dataset/accounting/2018-2019-international-travel-expenses-csv-1.txt'}), Document(page_content='Cllr Adam Ogilvie\\tCouncillor\\tBerlin\\tGermany\\t02.04.18\\t04.04.18\\t2 nights/3 days\\tTo host a reception promoting VisitLeeds & Leeds2023\\teconomy\\t205.28\\t0\\t159.77\\t0\\t0\\t0\\t22.64\\t0\\t387.69\\t387.69\\t0\\r\\nCluny Macpherson\\tChief Officer Culture and Sport\\tBerlin\\tGermany\\t02.04.18\\t04.04.18\\t2 nights/3 days\\tTo host a reception promoting VisitLeeds & Leeds2023\\teconomy\\t179.25\\t0\\t156.7\\t0\\t0\\t0\\t34.36\\t0\\t370.31\\t370.31\\t0', metadata={'file_name': '2018-2019-international-travel-expenses-csv-1.txt', 'file_path': 'data/code/dataset/accounting/2018-2019-international-travel-expenses-csv-1.txt', 'file_type': '.txt', 'source': 'data/code/dataset/accounting/2018-2019-international-travel-expenses-csv-1.txt'}), Document(page_content='{\\n  \"$id\": \"https://cyoda.com/cloud/event/processing/CalculationMemberJoinEvent.json\",\\n  \"$schema\": \"https://json-schema.org/draft/2020-12/schema\",\\n  \"title\": \"CalculationMemberJoinEvent\",\\n  \"type\": \"object\",\\n  \"extends\": {\\n    \"$ref\": \"BaseEvent.json\"\\n  },\\n  \"properties\": {\\n    \"tags\": {\\n      \"type\": \"array\",\\n      \"description\": \"Member tags. Could be used to filter applicability.\",\\n      \"items\": {\\n        \"type\": \"string\"\\n      }\\n    }\\n  }\\n}', metadata={'file_name': 'CalculationMemberJoinEvent.json', 'file_path': 'data/code/processors/schema/CalculationMemberJoinEvent.json', 'file_type': '.json', 'source': 'data/code/processors/schema/CalculationMemberJoinEvent.json'}), Document(page_content='{\\n  \"$id\": \"https://cyoda.com/cloud/event/processing/CalculationMemberGreetEvent.json\",\\n  \"$schema\": \"https://json-schema.org/draft/2020-12/schema\",\\n  \"title\": \"CalculationMemberGreetEvent\",\\n  \"type\": \"object\",\\n  \"extends\": {\\n    \"$ref\": \"BaseEvent.json\"\\n  },\\n  \"properties\": {\\n    \"memberId\": {\\n      \"type\": \"string\",\\n      \"description\": \"Assigned member ID.\"\\n    }\\n  },\\n  \"required\": [\\n    \"memberId\"\\n  ]\\n}', metadata={'file_name': 'CalculationMemberGreetEvent.json', 'file_path': 'data/code/processors/schema/CalculationMemberGreetEvent.json', 'file_type': '.json', 'source': 'data/code/processors/schema/CalculationMemberGreetEvent.json'})]\n"
     ]
    }
   ],
   "source": [
    "res = vectorstore.similarity_search(\"Get FOREIGN TRAVEL FOR LEEDS CITY COUNCIL\")\n",
    "print(res)"
   ]
  },
  {
   "cell_type": "markdown",
   "metadata": {},
   "source": [
    "### Define prompts for contextualizing question and answering question"
   ]
  },
  {
   "cell_type": "code",
   "execution_count": 13,
   "metadata": {},
   "outputs": [],
   "source": [
    "contextualize_q_system_prompt = \"\"\"Given a chat history and the latest user question \\\n",
    "which might reference context in the chat history, formulate a standalone question \\\n",
    "which can be understood without the chat history. Do NOT answer the question, \\\n",
    "just reformulate it if needed and otherwise return it as is.\"\"\"\n",
    "contextualize_q_prompt = ChatPromptTemplate.from_messages(\n",
    "    [\n",
    "        (\"system\", contextualize_q_system_prompt),\n",
    "        MessagesPlaceholder(\"chat_history\"),\n",
    "        (\"human\", \"{input}\"),\n",
    "    ]\n",
    ")"
   ]
  },
  {
   "cell_type": "code",
   "execution_count": 14,
   "metadata": {},
   "outputs": [],
   "source": [
    "history_aware_retriever = create_history_aware_retriever(\n",
    "    llm, retriever, contextualize_q_prompt\n",
    ")"
   ]
  },
  {
   "cell_type": "markdown",
   "metadata": {},
   "source": [
    "### Answer question"
   ]
  },
  {
   "cell_type": "code",
   "execution_count": 15,
   "metadata": {},
   "outputs": [],
   "source": [
    "qa_system_prompt = \"\"\"You are a code assistant. You are aware of grpc client CyodaCalculationMemberClient. \\\n",
    "CalculationMemberGreetEvent.json, CalculationMemberJoinEvent.json, CloudEventType.json, EntityProcessorCalculationRequest.json, EntityProcessorCalculationResponse.json are used for schema generation. \\\n",
    "Also use available proto files.You should write code in different languages to produce similar grpc clients.. \\\n",
    "You should do your best to answer the question. \\\n",
    "Use the following pieces of retrieved context to answer the question. \\\n",
    "\n",
    "{context}\"\"\"\n",
    "qa_prompt = ChatPromptTemplate.from_messages(\n",
    "    [\n",
    "        (\"system\", qa_system_prompt),\n",
    "        MessagesPlaceholder(\"chat_history\"),\n",
    "        (\"human\", \"{input}\"),\n",
    "    ]\n",
    ")\n",
    "question_answer_chain = create_stuff_documents_chain(llm, qa_prompt)"
   ]
  },
  {
   "cell_type": "markdown",
   "metadata": {},
   "source": [
    "### Create retrieval chain"
   ]
  },
  {
   "cell_type": "code",
   "execution_count": 16,
   "metadata": {},
   "outputs": [],
   "source": [
    "rag_chain = create_retrieval_chain(history_aware_retriever, question_answer_chain)"
   ]
  },
  {
   "cell_type": "markdown",
   "metadata": {},
   "source": [
    "### Initialize chat history and relevant functions"
   ]
  },
  {
   "cell_type": "code",
   "execution_count": 17,
   "metadata": {},
   "outputs": [],
   "source": [
    "chat_history = {}"
   ]
  },
  {
   "cell_type": "code",
   "execution_count": 18,
   "metadata": {},
   "outputs": [],
   "source": [
    "# Function to add a message to the chat history\n",
    "def add_to_chat_history(id, question, message):\n",
    "    if id in chat_history:\n",
    "        chat_history[id].extend([HumanMessage(content=question), message])\n",
    "    else:\n",
    "        chat_history[id] = [HumanMessage(content=question), message]"
   ]
  },
  {
   "cell_type": "code",
   "execution_count": 19,
   "metadata": {},
   "outputs": [],
   "source": [
    "# Function to clear chat history\n",
    "def clear_chat_history(id):\n",
    "    if id in chat_history:\n",
    "        del chat_history[id]"
   ]
  },
  {
   "cell_type": "code",
   "execution_count": 20,
   "metadata": {},
   "outputs": [],
   "source": [
    "def ask_question(id, question):\n",
    "    ai_msg = rag_chain.invoke(\n",
    "        {\"input\": question, \"chat_history\": chat_history.get(id, [])}\n",
    "    )\n",
    "    add_to_chat_history(id, question, ai_msg[\"answer\"])\n",
    "    return ai_msg[\"answer\"]"
   ]
  },
  {
   "cell_type": "markdown",
   "metadata": {},
   "source": [
    "### Start a chat session"
   ]
  },
  {
   "cell_type": "code",
   "execution_count": 21,
   "metadata": {},
   "outputs": [],
   "source": [
    "import uuid\n",
    "\n",
    "# Generate a unique ID for the chat session\n",
    "id = uuid.uuid1()"
   ]
  },
  {
   "cell_type": "code",
   "execution_count": 26,
   "metadata": {},
   "outputs": [
    {
     "name": "stdout",
     "output_type": "stream",
     "text": [
      "Certainly! Here's a full Java code example of a `ForeignTravelProcessor` component that performs processing of the `ForeignTravel` entity:\n",
      "\n",
      "```java\n",
      "import org.springframework.stereotype.Component;\n",
      "\n",
      "@Component\n",
      "public class ForeignTravelProcessor {\n",
      "\n",
      "    public void processForeignTravel(ForeignTravel foreignTravel) {\n",
      "        calculateTotalCosts(foreignTravel);\n",
      "        generateExpenseReport(foreignTravel);\n",
      "        // Other processing tasks\n",
      "    }\n",
      "\n",
      "    private void calculateTotalCosts(ForeignTravel foreignTravel) {\n",
      "        BigDecimal totalCostsToLcc = foreignTravel.getTravelCostsToLcc()\n",
      "                .add(foreignTravel.getAccommodationCostsToLcc())\n",
      "                .add(foreignTravel.getLocalTransportCostsToLcc())\n",
      "                .add(foreignTravel.getFoodAndDrinkCostsToLcc());\n",
      "\n",
      "        BigDecimal totalCostsToOther = foreignTravel.getTravelCostsToOther()\n",
      "                .add(foreignTravel.getAccommodationCostsToOther())\n",
      "                .add(foreignTravel.getLocalTransportCostsToOther())\n",
      "                .add(foreignTravel.getFoodAndDrinkCostsToOther());\n",
      "\n",
      "        foreignTravel.setTotalCostsToLcc(totalCostsToLcc);\n",
      "        foreignTravel.setTotalCostsToOther(totalCostsToOther);\n",
      "    }\n",
      "\n",
      "    private void generateExpenseReport(ForeignTravel foreignTravel) {\n",
      "        StringBuilder reportBuilder = new StringBuilder();\n",
      "        reportBuilder.append(\"Expense Report for Foreign Travel\\n\");\n",
      "        reportBuilder.append(\"=================================\\n\");\n",
      "        reportBuilder.append(\"Person Name: \").append(foreignTravel.getPersonName()).append(\"\\n\");\n",
      "        reportBuilder.append(\"Job Title: \").append(foreignTravel.getJobTitle()).append(\"\\n\");\n",
      "        reportBuilder.append(\"City: \").append(foreignTravel.getCity()).append(\"\\n\");\n",
      "        reportBuilder.append(\"Country: \").append(foreignTravel.getCountry()).append(\"\\n\");\n",
      "        reportBuilder.append(\"Departure Date: \").append(foreignTravel.getDepartureDate()).append(\"\\n\");\n",
      "        reportBuilder.append(\"Return Date: \").append(foreignTravel.getReturnDate()).append(\"\\n\");\n",
      "        reportBuilder.append(\"Total Days/Nights: \").append(foreignTravel.getTotalDaysNights()).append(\"\\n\");\n",
      "        reportBuilder.append(\"Reason for Visit: \").append(foreignTravel.getReasonForVisit()).append(\"\\n\");\n",
      "        reportBuilder.append(\"Class of Flight: \").append(foreignTravel.getClassOfFlight()).append(\"\\n\");\n",
      "        reportBuilder.append(\"Total Costs to Leeds City Council: \").append(foreignTravel.getTotalCostsToLcc()).append(\"\\n\");\n",
      "        reportBuilder.append(\"Total Costs to Other Organizations: \").append(foreignTravel.getTotalCostsToOther()).append(\"\\n\");\n",
      "\n",
      "        System.out.println(reportBuilder.toString());\n",
      "    }\n",
      "}\n",
      "```\n",
      "\n",
      "In this example, the `ForeignTravelProcessor` component is annotated with `@Component` to make it a Spring bean. The `processForeignTravel` method is responsible for invoking the processing logic on the provided `ForeignTravel` entity. The `calculateTotalCosts` method calculates the total costs to Leeds City Council and other organizations by summing up the individual cost components. The `generateExpenseReport` method generates an expense report by constructing a `StringBuilder` with relevant information from the `ForeignTravel` entity and printing it to the console.\n",
      "\n",
      "Note that you may need to modify the code according to your specific requirements and the structure of the `ForeignTravel` entity.\n"
     ]
    }
   ],
   "source": [
    "##Rewrite CyodaCalculationMemberClient to java. Produce ready to use code. Leave spring boot\n",
    "question = \"Write some logic java code in a @Component that does some processing of this entity. This should be a full code, use as much tokens as u need\"\n",
    "result = ask_question(id, question)\n",
    "print(result)"
   ]
  },
  {
   "cell_type": "code",
   "execution_count": null,
   "metadata": {},
   "outputs": [],
   "source": [
    "print(chat_history)"
   ]
  },
  {
   "cell_type": "code",
   "execution_count": null,
   "metadata": {},
   "outputs": [],
   "source": [
    "#clear chat history if necessary\n",
    "clear_chat_history(id)"
   ]
  }
 ],
 "metadata": {
  "kernelspec": {
   "display_name": "Python 3 (ipykernel)",
   "language": "python",
   "name": "python3"
  },
  "language_info": {
   "codemirror_mode": {
    "name": "ipython",
    "version": 3
   },
   "file_extension": ".py",
   "mimetype": "text/x-python",
   "name": "python",
   "nbconvert_exporter": "python",
   "pygments_lexer": "ipython3",
   "version": "3.10.4"
  }
 },
 "nbformat": 4,
 "nbformat_minor": 4
}
